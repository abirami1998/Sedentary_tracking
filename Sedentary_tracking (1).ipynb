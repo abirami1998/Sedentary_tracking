{
  "nbformat": 4,
  "nbformat_minor": 0,
  "metadata": {
    "colab": {
      "name": "Sedentary_tracking.ipynb",
      "provenance": [],
      "collapsed_sections": []
    },
    "kernelspec": {
      "name": "python3",
      "display_name": "Python 3"
    }
  },
  "cells": [
    {
      "cell_type": "code",
      "metadata": {
        "id": "J52dFM_Zu8Fc",
        "colab_type": "code",
        "colab": {
          "base_uri": "https://localhost:8080/",
          "height": 34
        },
        "outputId": "4a282d4a-006b-4bc8-8505-783b3cd90e64"
      },
      "source": [
        "import tensorflow as tf\n",
        "from tensorflow.keras import Sequential\n",
        "from tensorflow.keras.layers import Flatten,Dense,Dropout,BatchNormalization\n",
        "from tensorflow.keras.layers import Conv2D,MaxPool2D\n",
        "from tensorflow.keras.optimizers import Adam\n",
        "print(tf.__version__)"
      ],
      "execution_count": 111,
      "outputs": [
        {
          "output_type": "stream",
          "text": [
            "2.2.0-rc4\n"
          ],
          "name": "stdout"
        }
      ]
    },
    {
      "cell_type": "code",
      "metadata": {
        "id": "XIncA7KhwoXf",
        "colab_type": "code",
        "colab": {}
      },
      "source": [
        ""
      ],
      "execution_count": 0,
      "outputs": []
    },
    {
      "cell_type": "code",
      "metadata": {
        "id": "uXvMJ04S0hhf",
        "colab_type": "code",
        "colab": {}
      },
      "source": [
        "import pandas as pd\n",
        "import numpy as np\n",
        "import matplotlib.pyplot as plt\n",
        "from sklearn.model_selection import train_test_split\n",
        "from sklearn.preprocessing import StandardScaler,LabelEncoder"
      ],
      "execution_count": 0,
      "outputs": []
    },
    {
      "cell_type": "code",
      "metadata": {
        "id": "w1gfE6XCEoIN",
        "colab_type": "code",
        "colab": {
          "base_uri": "https://localhost:8080/",
          "height": 70
        },
        "outputId": "ac8559c0-0e07-40fe-ebdf-899eea67816d"
      },
      "source": [
        "file=open('WISDM_ar_v1.1_raw.txt')\n",
        "lines=file.readlines()\n",
        "\n",
        "processedList=[]\n",
        "\n",
        "for i,line in enumerate(lines):\n",
        "  try:\n",
        "    line=line.split(',')\n",
        "    last=line[5].split(',')[0]\n",
        "    last=last.strip()\n",
        "    if last=='':\n",
        "        break;\n",
        "    temp=  [line[0],line[1],line[2],line[3],line[4],last]\n",
        "    processedList.append(temp)\n",
        "  except:\n",
        "    print('Error at',i) "
      ],
      "execution_count": 8,
      "outputs": [
        {
          "output_type": "stream",
          "text": [
            "Error at 281873\n",
            "Error at 281874\n",
            "Error at 281875\n"
          ],
          "name": "stdout"
        }
      ]
    },
    {
      "cell_type": "code",
      "metadata": {
        "id": "0kVqQ45RLIFk",
        "colab_type": "code",
        "colab": {}
      },
      "source": [
        "columns=['user','activity','time','x','y','z']\n"
      ],
      "execution_count": 0,
      "outputs": []
    },
    {
      "cell_type": "code",
      "metadata": {
        "id": "kryPu-C4Kwjy",
        "colab_type": "code",
        "colab": {
          "base_uri": "https://localhost:8080/",
          "height": 199
        },
        "outputId": "c16d0bae-4d7e-4925-e656-0e9fc1dfac68"
      },
      "source": [
        "data=pd.DataFrame(data=processedList,columns=columns)\n",
        "data.head()"
      ],
      "execution_count": 13,
      "outputs": [
        {
          "output_type": "execute_result",
          "data": {
            "text/html": [
              "<div>\n",
              "<style scoped>\n",
              "    .dataframe tbody tr th:only-of-type {\n",
              "        vertical-align: middle;\n",
              "    }\n",
              "\n",
              "    .dataframe tbody tr th {\n",
              "        vertical-align: top;\n",
              "    }\n",
              "\n",
              "    .dataframe thead th {\n",
              "        text-align: right;\n",
              "    }\n",
              "</style>\n",
              "<table border=\"1\" class=\"dataframe\">\n",
              "  <thead>\n",
              "    <tr style=\"text-align: right;\">\n",
              "      <th></th>\n",
              "      <th>user</th>\n",
              "      <th>activity</th>\n",
              "      <th>time</th>\n",
              "      <th>x</th>\n",
              "      <th>y</th>\n",
              "      <th>z</th>\n",
              "    </tr>\n",
              "  </thead>\n",
              "  <tbody>\n",
              "    <tr>\n",
              "      <th>0</th>\n",
              "      <td>33</td>\n",
              "      <td>Jogging</td>\n",
              "      <td>49105962326000</td>\n",
              "      <td>-0.6946377</td>\n",
              "      <td>12.680544</td>\n",
              "      <td>0.50395286;</td>\n",
              "    </tr>\n",
              "    <tr>\n",
              "      <th>1</th>\n",
              "      <td>33</td>\n",
              "      <td>Jogging</td>\n",
              "      <td>49106062271000</td>\n",
              "      <td>5.012288</td>\n",
              "      <td>11.264028</td>\n",
              "      <td>0.95342433;</td>\n",
              "    </tr>\n",
              "    <tr>\n",
              "      <th>2</th>\n",
              "      <td>33</td>\n",
              "      <td>Jogging</td>\n",
              "      <td>49106112167000</td>\n",
              "      <td>4.903325</td>\n",
              "      <td>10.882658</td>\n",
              "      <td>-0.08172209;</td>\n",
              "    </tr>\n",
              "    <tr>\n",
              "      <th>3</th>\n",
              "      <td>33</td>\n",
              "      <td>Jogging</td>\n",
              "      <td>49106222305000</td>\n",
              "      <td>-0.61291564</td>\n",
              "      <td>18.496431</td>\n",
              "      <td>3.0237172;</td>\n",
              "    </tr>\n",
              "    <tr>\n",
              "      <th>4</th>\n",
              "      <td>33</td>\n",
              "      <td>Jogging</td>\n",
              "      <td>49106332290000</td>\n",
              "      <td>-1.1849703</td>\n",
              "      <td>12.108489</td>\n",
              "      <td>7.205164;</td>\n",
              "    </tr>\n",
              "  </tbody>\n",
              "</table>\n",
              "</div>"
            ],
            "text/plain": [
              "  user activity            time            x          y             z\n",
              "0   33  Jogging  49105962326000   -0.6946377  12.680544   0.50395286;\n",
              "1   33  Jogging  49106062271000     5.012288  11.264028   0.95342433;\n",
              "2   33  Jogging  49106112167000     4.903325  10.882658  -0.08172209;\n",
              "3   33  Jogging  49106222305000  -0.61291564  18.496431    3.0237172;\n",
              "4   33  Jogging  49106332290000   -1.1849703  12.108489     7.205164;"
            ]
          },
          "metadata": {
            "tags": []
          },
          "execution_count": 13
        }
      ]
    },
    {
      "cell_type": "code",
      "metadata": {
        "id": "6IQBBOlOLm-o",
        "colab_type": "code",
        "colab": {
          "base_uri": "https://localhost:8080/",
          "height": 34
        },
        "outputId": "31f67972-5746-45ee-bbfa-3c29cd0f9f52"
      },
      "source": [
        "data.shape\n"
      ],
      "execution_count": 15,
      "outputs": [
        {
          "output_type": "execute_result",
          "data": {
            "text/plain": [
              "(343416, 6)"
            ]
          },
          "metadata": {
            "tags": []
          },
          "execution_count": 15
        }
      ]
    },
    {
      "cell_type": "code",
      "metadata": {
        "id": "nVHLO2J5MRBK",
        "colab_type": "code",
        "colab": {
          "base_uri": "https://localhost:8080/",
          "height": 245
        },
        "outputId": "f763602d-d76c-430e-8083-a5bee7d35049"
      },
      "source": [
        "data.info()"
      ],
      "execution_count": 16,
      "outputs": [
        {
          "output_type": "stream",
          "text": [
            "<class 'pandas.core.frame.DataFrame'>\n",
            "RangeIndex: 343416 entries, 0 to 343415\n",
            "Data columns (total 6 columns):\n",
            " #   Column    Non-Null Count   Dtype \n",
            "---  ------    --------------   ----- \n",
            " 0   user      343416 non-null  object\n",
            " 1   activity  343416 non-null  object\n",
            " 2   time      343416 non-null  object\n",
            " 3   x         343416 non-null  object\n",
            " 4   y         343416 non-null  object\n",
            " 5   z         343416 non-null  object\n",
            "dtypes: object(6)\n",
            "memory usage: 15.7+ MB\n"
          ],
          "name": "stdout"
        }
      ]
    },
    {
      "cell_type": "code",
      "metadata": {
        "id": "jR6NXk_dMWKF",
        "colab_type": "code",
        "colab": {
          "base_uri": "https://localhost:8080/",
          "height": 140
        },
        "outputId": "158085b5-76cb-4721-9079-40491f8c4f00"
      },
      "source": [
        "data.isnull().sum()"
      ],
      "execution_count": 18,
      "outputs": [
        {
          "output_type": "execute_result",
          "data": {
            "text/plain": [
              "user        0\n",
              "activity    0\n",
              "time        0\n",
              "x           0\n",
              "y           0\n",
              "z           0\n",
              "dtype: int64"
            ]
          },
          "metadata": {
            "tags": []
          },
          "execution_count": 18
        }
      ]
    },
    {
      "cell_type": "code",
      "metadata": {
        "id": "_bQR34AfMbk_",
        "colab_type": "code",
        "colab": {
          "base_uri": "https://localhost:8080/",
          "height": 140
        },
        "outputId": "0b3c86de-93f6-4525-889f-bde9fef340b4"
      },
      "source": [
        "data['activity'].value_counts()"
      ],
      "execution_count": 19,
      "outputs": [
        {
          "output_type": "execute_result",
          "data": {
            "text/plain": [
              "Walking       137375\n",
              "Jogging       129392\n",
              "Upstairs       35137\n",
              "Downstairs     33358\n",
              "Sitting         4599\n",
              "Standing        3555\n",
              "Name: activity, dtype: int64"
            ]
          },
          "metadata": {
            "tags": []
          },
          "execution_count": 19
        }
      ]
    },
    {
      "cell_type": "code",
      "metadata": {
        "id": "12tCzLViMoGz",
        "colab_type": "code",
        "colab": {}
      },
      "source": [
        "#To avoid overfitting balance the data"
      ],
      "execution_count": 0,
      "outputs": []
    },
    {
      "cell_type": "code",
      "metadata": {
        "id": "l0Ap5IE3My-F",
        "colab_type": "code",
        "colab": {}
      },
      "source": [
        "data['x']=data['x'].astype('float')\n",
        "data['y']=data['y'].astype('float')\n",
        "#data['z']=data['z'].astype('float')"
      ],
      "execution_count": 0,
      "outputs": []
    },
    {
      "cell_type": "code",
      "metadata": {
        "id": "L1qwvB4aNEyj",
        "colab_type": "code",
        "colab": {}
      },
      "source": [
        "Fs=20"
      ],
      "execution_count": 0,
      "outputs": []
    },
    {
      "cell_type": "code",
      "metadata": {
        "id": "cB6_ajwAPrQs",
        "colab_type": "code",
        "colab": {
          "base_uri": "https://localhost:8080/",
          "height": 199
        },
        "outputId": "205574dd-5534-4193-b3b6-1d077b5c5983"
      },
      "source": [
        "df=data.drop(['user','time'],axis=1).copy()\n",
        "df.head()"
      ],
      "execution_count": 33,
      "outputs": [
        {
          "output_type": "execute_result",
          "data": {
            "text/html": [
              "<div>\n",
              "<style scoped>\n",
              "    .dataframe tbody tr th:only-of-type {\n",
              "        vertical-align: middle;\n",
              "    }\n",
              "\n",
              "    .dataframe tbody tr th {\n",
              "        vertical-align: top;\n",
              "    }\n",
              "\n",
              "    .dataframe thead th {\n",
              "        text-align: right;\n",
              "    }\n",
              "</style>\n",
              "<table border=\"1\" class=\"dataframe\">\n",
              "  <thead>\n",
              "    <tr style=\"text-align: right;\">\n",
              "      <th></th>\n",
              "      <th>activity</th>\n",
              "      <th>x</th>\n",
              "      <th>y</th>\n",
              "      <th>z</th>\n",
              "    </tr>\n",
              "  </thead>\n",
              "  <tbody>\n",
              "    <tr>\n",
              "      <th>0</th>\n",
              "      <td>Jogging</td>\n",
              "      <td>-0.694638</td>\n",
              "      <td>12.680544</td>\n",
              "      <td>0.50395286;</td>\n",
              "    </tr>\n",
              "    <tr>\n",
              "      <th>1</th>\n",
              "      <td>Jogging</td>\n",
              "      <td>5.012288</td>\n",
              "      <td>11.264028</td>\n",
              "      <td>0.95342433;</td>\n",
              "    </tr>\n",
              "    <tr>\n",
              "      <th>2</th>\n",
              "      <td>Jogging</td>\n",
              "      <td>4.903325</td>\n",
              "      <td>10.882658</td>\n",
              "      <td>-0.08172209;</td>\n",
              "    </tr>\n",
              "    <tr>\n",
              "      <th>3</th>\n",
              "      <td>Jogging</td>\n",
              "      <td>-0.612916</td>\n",
              "      <td>18.496431</td>\n",
              "      <td>3.0237172;</td>\n",
              "    </tr>\n",
              "    <tr>\n",
              "      <th>4</th>\n",
              "      <td>Jogging</td>\n",
              "      <td>-1.184970</td>\n",
              "      <td>12.108489</td>\n",
              "      <td>7.205164;</td>\n",
              "    </tr>\n",
              "  </tbody>\n",
              "</table>\n",
              "</div>"
            ],
            "text/plain": [
              "  activity         x          y             z\n",
              "0  Jogging -0.694638  12.680544   0.50395286;\n",
              "1  Jogging  5.012288  11.264028   0.95342433;\n",
              "2  Jogging  4.903325  10.882658  -0.08172209;\n",
              "3  Jogging -0.612916  18.496431    3.0237172;\n",
              "4  Jogging -1.184970  12.108489     7.205164;"
            ]
          },
          "metadata": {
            "tags": []
          },
          "execution_count": 33
        }
      ]
    },
    {
      "cell_type": "code",
      "metadata": {
        "id": "zjt1YBHYQojK",
        "colab_type": "code",
        "colab": {}
      },
      "source": [
        "Walking=df[df['activity']=='Walking'].head(3555).copy()\n",
        "Jogging=df[df['activity']=='Jogging'].head(3555).copy()\n",
        "Upstairs=df[df['activity']=='Upstairs'].head(3555).copy()\n",
        "Downstairs=df[df['activity']=='Downstairs'].head(3555).copy()\n",
        "Sitting=df[df['activity']=='Sitting'].head(3555).copy()\n",
        "Standing=df[df['activity']=='Standing'].head(3555).copy()\n",
        "\n",
        "\n"
      ],
      "execution_count": 0,
      "outputs": []
    },
    {
      "cell_type": "code",
      "metadata": {
        "id": "JrBv0GvcSH5M",
        "colab_type": "code",
        "colab": {
          "base_uri": "https://localhost:8080/",
          "height": 34
        },
        "outputId": "49828f23-66ea-4831-b7f4-7aa5df6a4e00"
      },
      "source": [
        "balanced_data=pd.DataFrame()\n",
        "balanced_data=balanced_data.append([Walking,Jogging,Upstairs,Downstairs,Sitting,Standing])\n",
        "balanced_data.shape"
      ],
      "execution_count": 40,
      "outputs": [
        {
          "output_type": "execute_result",
          "data": {
            "text/plain": [
              "(21330, 4)"
            ]
          },
          "metadata": {
            "tags": []
          },
          "execution_count": 40
        }
      ]
    },
    {
      "cell_type": "code",
      "metadata": {
        "id": "Gmya2IeBTuio",
        "colab_type": "code",
        "colab": {
          "base_uri": "https://localhost:8080/",
          "height": 199
        },
        "outputId": "11ef4cda-6b5a-4f10-d2d5-25c6247837de"
      },
      "source": [
        "balanced_data.head()"
      ],
      "execution_count": 41,
      "outputs": [
        {
          "output_type": "execute_result",
          "data": {
            "text/html": [
              "<div>\n",
              "<style scoped>\n",
              "    .dataframe tbody tr th:only-of-type {\n",
              "        vertical-align: middle;\n",
              "    }\n",
              "\n",
              "    .dataframe tbody tr th {\n",
              "        vertical-align: top;\n",
              "    }\n",
              "\n",
              "    .dataframe thead th {\n",
              "        text-align: right;\n",
              "    }\n",
              "</style>\n",
              "<table border=\"1\" class=\"dataframe\">\n",
              "  <thead>\n",
              "    <tr style=\"text-align: right;\">\n",
              "      <th></th>\n",
              "      <th>activity</th>\n",
              "      <th>x</th>\n",
              "      <th>y</th>\n",
              "      <th>z</th>\n",
              "    </tr>\n",
              "  </thead>\n",
              "  <tbody>\n",
              "    <tr>\n",
              "      <th>597</th>\n",
              "      <td>Walking</td>\n",
              "      <td>0.844462</td>\n",
              "      <td>8.008764</td>\n",
              "      <td>2.7921712;</td>\n",
              "    </tr>\n",
              "    <tr>\n",
              "      <th>598</th>\n",
              "      <td>Walking</td>\n",
              "      <td>1.116868</td>\n",
              "      <td>8.621680</td>\n",
              "      <td>3.7864566;</td>\n",
              "    </tr>\n",
              "    <tr>\n",
              "      <th>599</th>\n",
              "      <td>Walking</td>\n",
              "      <td>-0.503953</td>\n",
              "      <td>16.657684</td>\n",
              "      <td>1.3075534;</td>\n",
              "    </tr>\n",
              "    <tr>\n",
              "      <th>600</th>\n",
              "      <td>Walking</td>\n",
              "      <td>4.794363</td>\n",
              "      <td>10.760075</td>\n",
              "      <td>-1.1849703;</td>\n",
              "    </tr>\n",
              "    <tr>\n",
              "      <th>601</th>\n",
              "      <td>Walking</td>\n",
              "      <td>-0.040861</td>\n",
              "      <td>9.234595</td>\n",
              "      <td>-0.6946377;</td>\n",
              "    </tr>\n",
              "  </tbody>\n",
              "</table>\n",
              "</div>"
            ],
            "text/plain": [
              "    activity         x          y            z\n",
              "597  Walking  0.844462   8.008764   2.7921712;\n",
              "598  Walking  1.116868   8.621680   3.7864566;\n",
              "599  Walking -0.503953  16.657684   1.3075534;\n",
              "600  Walking  4.794363  10.760075  -1.1849703;\n",
              "601  Walking -0.040861   9.234595  -0.6946377;"
            ]
          },
          "metadata": {
            "tags": []
          },
          "execution_count": 41
        }
      ]
    },
    {
      "cell_type": "code",
      "metadata": {
        "id": "clmVdVpKU0qg",
        "colab_type": "code",
        "colab": {}
      },
      "source": [
        "from sklearn.preprocessing import LabelEncoder"
      ],
      "execution_count": 0,
      "outputs": []
    },
    {
      "cell_type": "code",
      "metadata": {
        "id": "8Tw6kUg6U7PV",
        "colab_type": "code",
        "colab": {
          "base_uri": "https://localhost:8080/",
          "height": 199
        },
        "outputId": "ca720d76-e4e7-4d6c-82e3-e7aff46b0777"
      },
      "source": [
        "label=LabelEncoder()\n",
        "balanced_data['label']=label.fit_transform(balanced_data['activity'])\n",
        "balanced_data.head()"
      ],
      "execution_count": 45,
      "outputs": [
        {
          "output_type": "execute_result",
          "data": {
            "text/html": [
              "<div>\n",
              "<style scoped>\n",
              "    .dataframe tbody tr th:only-of-type {\n",
              "        vertical-align: middle;\n",
              "    }\n",
              "\n",
              "    .dataframe tbody tr th {\n",
              "        vertical-align: top;\n",
              "    }\n",
              "\n",
              "    .dataframe thead th {\n",
              "        text-align: right;\n",
              "    }\n",
              "</style>\n",
              "<table border=\"1\" class=\"dataframe\">\n",
              "  <thead>\n",
              "    <tr style=\"text-align: right;\">\n",
              "      <th></th>\n",
              "      <th>activity</th>\n",
              "      <th>x</th>\n",
              "      <th>y</th>\n",
              "      <th>z</th>\n",
              "      <th>label</th>\n",
              "    </tr>\n",
              "  </thead>\n",
              "  <tbody>\n",
              "    <tr>\n",
              "      <th>597</th>\n",
              "      <td>Walking</td>\n",
              "      <td>0.844462</td>\n",
              "      <td>8.008764</td>\n",
              "      <td>2.7921712;</td>\n",
              "      <td>5</td>\n",
              "    </tr>\n",
              "    <tr>\n",
              "      <th>598</th>\n",
              "      <td>Walking</td>\n",
              "      <td>1.116868</td>\n",
              "      <td>8.621680</td>\n",
              "      <td>3.7864566;</td>\n",
              "      <td>5</td>\n",
              "    </tr>\n",
              "    <tr>\n",
              "      <th>599</th>\n",
              "      <td>Walking</td>\n",
              "      <td>-0.503953</td>\n",
              "      <td>16.657684</td>\n",
              "      <td>1.3075534;</td>\n",
              "      <td>5</td>\n",
              "    </tr>\n",
              "    <tr>\n",
              "      <th>600</th>\n",
              "      <td>Walking</td>\n",
              "      <td>4.794363</td>\n",
              "      <td>10.760075</td>\n",
              "      <td>-1.1849703;</td>\n",
              "      <td>5</td>\n",
              "    </tr>\n",
              "    <tr>\n",
              "      <th>601</th>\n",
              "      <td>Walking</td>\n",
              "      <td>-0.040861</td>\n",
              "      <td>9.234595</td>\n",
              "      <td>-0.6946377;</td>\n",
              "      <td>5</td>\n",
              "    </tr>\n",
              "  </tbody>\n",
              "</table>\n",
              "</div>"
            ],
            "text/plain": [
              "    activity         x          y            z  label\n",
              "597  Walking  0.844462   8.008764   2.7921712;      5\n",
              "598  Walking  1.116868   8.621680   3.7864566;      5\n",
              "599  Walking -0.503953  16.657684   1.3075534;      5\n",
              "600  Walking  4.794363  10.760075  -1.1849703;      5\n",
              "601  Walking -0.040861   9.234595  -0.6946377;      5"
            ]
          },
          "metadata": {
            "tags": []
          },
          "execution_count": 45
        }
      ]
    },
    {
      "cell_type": "code",
      "metadata": {
        "id": "XetXVpWrVMmX",
        "colab_type": "code",
        "colab": {}
      },
      "source": [
        "x=balanced_data[['x','y']]\n",
        "y=balanced_data['label']"
      ],
      "execution_count": 0,
      "outputs": []
    },
    {
      "cell_type": "code",
      "metadata": {
        "id": "JTJBhFVLWA7f",
        "colab_type": "code",
        "colab": {
          "base_uri": "https://localhost:8080/",
          "height": 410
        },
        "outputId": "66ca6240-e85e-483f-84d2-ad7943750821"
      },
      "source": [
        "scaler=StandardScaler()\n",
        "x=scaler.fit_transform(x)\n",
        "\n",
        "scaled_x=pd.DataFrame(data=x,columns=['x','y'])\n",
        "scaled_x['label']=y.values\n",
        "\n",
        "scaled_x"
      ],
      "execution_count": 51,
      "outputs": [
        {
          "output_type": "execute_result",
          "data": {
            "text/html": [
              "<div>\n",
              "<style scoped>\n",
              "    .dataframe tbody tr th:only-of-type {\n",
              "        vertical-align: middle;\n",
              "    }\n",
              "\n",
              "    .dataframe tbody tr th {\n",
              "        vertical-align: top;\n",
              "    }\n",
              "\n",
              "    .dataframe thead th {\n",
              "        text-align: right;\n",
              "    }\n",
              "</style>\n",
              "<table border=\"1\" class=\"dataframe\">\n",
              "  <thead>\n",
              "    <tr style=\"text-align: right;\">\n",
              "      <th></th>\n",
              "      <th>x</th>\n",
              "      <th>y</th>\n",
              "      <th>label</th>\n",
              "    </tr>\n",
              "  </thead>\n",
              "  <tbody>\n",
              "    <tr>\n",
              "      <th>0</th>\n",
              "      <td>0.000503</td>\n",
              "      <td>-0.099190</td>\n",
              "      <td>5</td>\n",
              "    </tr>\n",
              "    <tr>\n",
              "      <th>1</th>\n",
              "      <td>0.073590</td>\n",
              "      <td>0.020386</td>\n",
              "      <td>5</td>\n",
              "    </tr>\n",
              "    <tr>\n",
              "      <th>2</th>\n",
              "      <td>-0.361275</td>\n",
              "      <td>1.588160</td>\n",
              "      <td>5</td>\n",
              "    </tr>\n",
              "    <tr>\n",
              "      <th>3</th>\n",
              "      <td>1.060258</td>\n",
              "      <td>0.437573</td>\n",
              "      <td>5</td>\n",
              "    </tr>\n",
              "    <tr>\n",
              "      <th>4</th>\n",
              "      <td>-0.237028</td>\n",
              "      <td>0.139962</td>\n",
              "      <td>5</td>\n",
              "    </tr>\n",
              "    <tr>\n",
              "      <th>...</th>\n",
              "      <td>...</td>\n",
              "      <td>...</td>\n",
              "      <td>...</td>\n",
              "    </tr>\n",
              "    <tr>\n",
              "      <th>21325</th>\n",
              "      <td>-0.470217</td>\n",
              "      <td>0.178084</td>\n",
              "      <td>3</td>\n",
              "    </tr>\n",
              "    <tr>\n",
              "      <th>21326</th>\n",
              "      <td>-0.542658</td>\n",
              "      <td>0.193692</td>\n",
              "      <td>3</td>\n",
              "    </tr>\n",
              "    <tr>\n",
              "      <th>21327</th>\n",
              "      <td>-0.628513</td>\n",
              "      <td>0.197593</td>\n",
              "      <td>3</td>\n",
              "    </tr>\n",
              "    <tr>\n",
              "      <th>21328</th>\n",
              "      <td>-0.781444</td>\n",
              "      <td>0.049322</td>\n",
              "      <td>3</td>\n",
              "    </tr>\n",
              "    <tr>\n",
              "      <th>21329</th>\n",
              "      <td>-0.800225</td>\n",
              "      <td>0.267827</td>\n",
              "      <td>3</td>\n",
              "    </tr>\n",
              "  </tbody>\n",
              "</table>\n",
              "<p>21330 rows × 3 columns</p>\n",
              "</div>"
            ],
            "text/plain": [
              "              x         y  label\n",
              "0      0.000503 -0.099190      5\n",
              "1      0.073590  0.020386      5\n",
              "2     -0.361275  1.588160      5\n",
              "3      1.060258  0.437573      5\n",
              "4     -0.237028  0.139962      5\n",
              "...         ...       ...    ...\n",
              "21325 -0.470217  0.178084      3\n",
              "21326 -0.542658  0.193692      3\n",
              "21327 -0.628513  0.197593      3\n",
              "21328 -0.781444  0.049322      3\n",
              "21329 -0.800225  0.267827      3\n",
              "\n",
              "[21330 rows x 3 columns]"
            ]
          },
          "metadata": {
            "tags": []
          },
          "execution_count": 51
        }
      ]
    },
    {
      "cell_type": "code",
      "metadata": {
        "id": "MZUGSt6HYCOq",
        "colab_type": "code",
        "colab": {}
      },
      "source": [
        "import scipy.stats as stats"
      ],
      "execution_count": 0,
      "outputs": []
    },
    {
      "cell_type": "code",
      "metadata": {
        "id": "rEtemjGfY4z_",
        "colab_type": "code",
        "colab": {}
      },
      "source": [
        "Fs=20\n",
        "frame_size=Fs*4  #80\n",
        "hop_size=Fs*2"
      ],
      "execution_count": 0,
      "outputs": []
    },
    {
      "cell_type": "code",
      "metadata": {
        "id": "O-jzLY72ZHuL",
        "colab_type": "code",
        "colab": {}
      },
      "source": [
        "def get_frame(df,frame_size,hop_size):\n",
        "  N_FEATURES=2\n",
        "\n",
        "  frames=[]\n",
        "  labels=[]\n",
        "  for i in range(0,len(df)-frame_size,hop_size):\n",
        "    x=df['x'].values[i:i+frame_size]\n",
        "    y=df['y'].values[i:i+frame_size]\n",
        "\n",
        "    label=stats.mode(df['label'][i:i+frame_size])[0][0]\n",
        "    frames.append([x,y])\n",
        "    labels.append(label)\n",
        "\n",
        "\n",
        "  frames=np.asarray(frames).reshape(-1,frame_size,N_FEATURES)\n",
        "  labels=np.asarray(labels)\n",
        "\n",
        "  return frames,labels\n",
        "\n"
      ],
      "execution_count": 0,
      "outputs": []
    },
    {
      "cell_type": "code",
      "metadata": {
        "id": "HO0BlWwxbolE",
        "colab_type": "code",
        "colab": {}
      },
      "source": [
        "x,y=get_frame(scaled_x,frame_size,hop_size)"
      ],
      "execution_count": 0,
      "outputs": []
    },
    {
      "cell_type": "code",
      "metadata": {
        "id": "gCUTGsT9b2ji",
        "colab_type": "code",
        "colab": {
          "base_uri": "https://localhost:8080/",
          "height": 34
        },
        "outputId": "1036c5ce-ad41-42fc-b155-88beef125b5f"
      },
      "source": [
        "x.shape"
      ],
      "execution_count": 98,
      "outputs": [
        {
          "output_type": "execute_result",
          "data": {
            "text/plain": [
              "(532, 80, 2)"
            ]
          },
          "metadata": {
            "tags": []
          },
          "execution_count": 98
        }
      ]
    },
    {
      "cell_type": "code",
      "metadata": {
        "id": "U0resXlLdlDG",
        "colab_type": "code",
        "colab": {}
      },
      "source": [
        "x_train,x_test,y_train,y_test=train_test_split(x,y,test_size=0.2,random_state=0,stratify=y)"
      ],
      "execution_count": 0,
      "outputs": []
    },
    {
      "cell_type": "code",
      "metadata": {
        "id": "oyh3euujllWP",
        "colab_type": "code",
        "colab": {
          "base_uri": "https://localhost:8080/",
          "height": 34
        },
        "outputId": "a24d25d7-99ae-4736-91d1-11b57d677dc6"
      },
      "source": [
        "x_test.shape"
      ],
      "execution_count": 106,
      "outputs": [
        {
          "output_type": "execute_result",
          "data": {
            "text/plain": [
              "(107, 80, 2)"
            ]
          },
          "metadata": {
            "tags": []
          },
          "execution_count": 106
        }
      ]
    },
    {
      "cell_type": "code",
      "metadata": {
        "id": "h9sL_MQblrt5",
        "colab_type": "code",
        "colab": {}
      },
      "source": [
        "x_train=x_train.reshape(425,80,2,1)\n",
        "x_test=x_test.reshape(107,80,2,1)"
      ],
      "execution_count": 0,
      "outputs": []
    },
    {
      "cell_type": "code",
      "metadata": {
        "id": "BegDL7H6mAOi",
        "colab_type": "code",
        "colab": {
          "base_uri": "https://localhost:8080/",
          "height": 34
        },
        "outputId": "47f5eeea-5061-43a8-c254-7f22d18234e2"
      },
      "source": [
        "x_train[0].shape,x_test[0].shape"
      ],
      "execution_count": 115,
      "outputs": [
        {
          "output_type": "execute_result",
          "data": {
            "text/plain": [
              "((80, 2, 1), (80, 2, 1))"
            ]
          },
          "metadata": {
            "tags": []
          },
          "execution_count": 115
        }
      ]
    },
    {
      "cell_type": "code",
      "metadata": {
        "id": "MWMq_HrDnLOT",
        "colab_type": "code",
        "colab": {}
      },
      "source": [
        "#MODEL BUILD"
      ],
      "execution_count": 0,
      "outputs": []
    },
    {
      "cell_type": "code",
      "metadata": {
        "id": "3ZNNslZ8nZoZ",
        "colab_type": "code",
        "colab": {}
      },
      "source": [
        "model=Sequential()\n",
        "model.add(Conv2D(16,(2,1),activation='relu',input_shape=x_train[0].shape))\n",
        "model.add(Dropout(0.1))\n",
        "\n",
        "model.add(Conv2D(32,(2,1),activation='relu'))\n",
        "model.add(Dropout(0.2))\n",
        "\n",
        "model.add(Flatten())\n",
        "model.add(Dense(64,activation='relu'))\n",
        "model.add(Dropout(0.5))\n",
        "\n",
        "model.add(Dense(6,activation='softmax'))"
      ],
      "execution_count": 0,
      "outputs": []
    },
    {
      "cell_type": "code",
      "metadata": {
        "id": "gRmMToywrsTe",
        "colab_type": "code",
        "colab": {}
      },
      "source": [
        "model.compile(optimizer=Adam(learning_rate=0.001),loss='sparse_categorical_crossentropy',metrics=['accuracy'])"
      ],
      "execution_count": 0,
      "outputs": []
    },
    {
      "cell_type": "code",
      "metadata": {
        "id": "MSZztS6VsZDT",
        "colab_type": "code",
        "colab": {
          "base_uri": "https://localhost:8080/",
          "height": 1000
        },
        "outputId": "0a94d3da-a09b-479b-9974-5c6a27281953"
      },
      "source": [
        "history=model.fit(x_train,y_train,epochs=35,validation_data=(x_test,y_test),verbose=1)"
      ],
      "execution_count": 125,
      "outputs": [
        {
          "output_type": "stream",
          "text": [
            "Epoch 1/35\n",
            "14/14 [==============================] - 0s 12ms/step - loss: 0.0511 - accuracy: 0.9812 - val_loss: 0.5676 - val_accuracy: 0.8785\n",
            "Epoch 2/35\n",
            "14/14 [==============================] - 0s 13ms/step - loss: 0.0363 - accuracy: 0.9953 - val_loss: 0.5306 - val_accuracy: 0.8879\n",
            "Epoch 3/35\n",
            "14/14 [==============================] - 0s 13ms/step - loss: 0.0723 - accuracy: 0.9859 - val_loss: 0.5761 - val_accuracy: 0.8692\n",
            "Epoch 4/35\n",
            "14/14 [==============================] - 0s 13ms/step - loss: 0.0607 - accuracy: 0.9788 - val_loss: 0.5737 - val_accuracy: 0.8785\n",
            "Epoch 5/35\n",
            "14/14 [==============================] - 0s 13ms/step - loss: 0.0586 - accuracy: 0.9882 - val_loss: 0.5811 - val_accuracy: 0.8879\n",
            "Epoch 6/35\n",
            "14/14 [==============================] - 0s 13ms/step - loss: 0.0487 - accuracy: 0.9859 - val_loss: 0.6821 - val_accuracy: 0.8598\n",
            "Epoch 7/35\n",
            "14/14 [==============================] - 0s 13ms/step - loss: 0.0598 - accuracy: 0.9765 - val_loss: 0.6082 - val_accuracy: 0.8692\n",
            "Epoch 8/35\n",
            "14/14 [==============================] - 0s 13ms/step - loss: 0.0558 - accuracy: 0.9812 - val_loss: 0.5909 - val_accuracy: 0.8785\n",
            "Epoch 9/35\n",
            "14/14 [==============================] - 0s 13ms/step - loss: 0.0645 - accuracy: 0.9741 - val_loss: 0.6001 - val_accuracy: 0.8785\n",
            "Epoch 10/35\n",
            "14/14 [==============================] - 0s 13ms/step - loss: 0.0626 - accuracy: 0.9835 - val_loss: 0.5583 - val_accuracy: 0.8972\n",
            "Epoch 11/35\n",
            "14/14 [==============================] - 0s 13ms/step - loss: 0.0500 - accuracy: 0.9812 - val_loss: 0.6090 - val_accuracy: 0.8785\n",
            "Epoch 12/35\n",
            "14/14 [==============================] - 0s 13ms/step - loss: 0.0323 - accuracy: 0.9953 - val_loss: 0.5939 - val_accuracy: 0.8879\n",
            "Epoch 13/35\n",
            "14/14 [==============================] - 0s 13ms/step - loss: 0.0460 - accuracy: 0.9788 - val_loss: 0.6540 - val_accuracy: 0.8785\n",
            "Epoch 14/35\n",
            "14/14 [==============================] - 0s 13ms/step - loss: 0.0310 - accuracy: 0.9906 - val_loss: 0.5766 - val_accuracy: 0.8879\n",
            "Epoch 15/35\n",
            "14/14 [==============================] - 0s 12ms/step - loss: 0.0351 - accuracy: 0.9906 - val_loss: 0.6461 - val_accuracy: 0.8692\n",
            "Epoch 16/35\n",
            "14/14 [==============================] - 0s 14ms/step - loss: 0.0395 - accuracy: 0.9859 - val_loss: 0.6587 - val_accuracy: 0.8879\n",
            "Epoch 17/35\n",
            "14/14 [==============================] - 0s 13ms/step - loss: 0.0443 - accuracy: 0.9812 - val_loss: 0.5847 - val_accuracy: 0.8879\n",
            "Epoch 18/35\n",
            "14/14 [==============================] - 0s 13ms/step - loss: 0.0388 - accuracy: 0.9882 - val_loss: 0.5752 - val_accuracy: 0.9065\n",
            "Epoch 19/35\n",
            "14/14 [==============================] - 0s 13ms/step - loss: 0.0369 - accuracy: 0.9906 - val_loss: 0.5960 - val_accuracy: 0.8879\n",
            "Epoch 20/35\n",
            "14/14 [==============================] - 0s 13ms/step - loss: 0.0356 - accuracy: 0.9906 - val_loss: 0.5826 - val_accuracy: 0.9159\n",
            "Epoch 21/35\n",
            "14/14 [==============================] - 0s 12ms/step - loss: 0.0212 - accuracy: 0.9976 - val_loss: 0.5922 - val_accuracy: 0.8972\n",
            "Epoch 22/35\n",
            "14/14 [==============================] - 0s 13ms/step - loss: 0.0440 - accuracy: 0.9906 - val_loss: 0.5997 - val_accuracy: 0.8972\n",
            "Epoch 23/35\n",
            "14/14 [==============================] - 0s 13ms/step - loss: 0.0360 - accuracy: 0.9882 - val_loss: 0.5959 - val_accuracy: 0.8972\n",
            "Epoch 24/35\n",
            "14/14 [==============================] - 0s 13ms/step - loss: 0.0384 - accuracy: 0.9859 - val_loss: 0.7341 - val_accuracy: 0.8785\n",
            "Epoch 25/35\n",
            "14/14 [==============================] - 0s 13ms/step - loss: 0.0420 - accuracy: 0.9859 - val_loss: 0.5968 - val_accuracy: 0.9065\n",
            "Epoch 26/35\n",
            "14/14 [==============================] - 0s 13ms/step - loss: 0.0398 - accuracy: 0.9859 - val_loss: 0.5968 - val_accuracy: 0.8785\n",
            "Epoch 27/35\n",
            "14/14 [==============================] - 0s 15ms/step - loss: 0.0367 - accuracy: 0.9882 - val_loss: 0.6456 - val_accuracy: 0.8879\n",
            "Epoch 28/35\n",
            "14/14 [==============================] - 0s 13ms/step - loss: 0.0246 - accuracy: 0.9906 - val_loss: 0.6689 - val_accuracy: 0.8879\n",
            "Epoch 29/35\n",
            "14/14 [==============================] - 0s 13ms/step - loss: 0.0351 - accuracy: 0.9882 - val_loss: 0.6369 - val_accuracy: 0.8879\n",
            "Epoch 30/35\n",
            "14/14 [==============================] - 0s 13ms/step - loss: 0.0322 - accuracy: 0.9906 - val_loss: 0.6794 - val_accuracy: 0.8879\n",
            "Epoch 31/35\n",
            "14/14 [==============================] - 0s 13ms/step - loss: 0.0331 - accuracy: 0.9882 - val_loss: 0.6838 - val_accuracy: 0.8879\n",
            "Epoch 32/35\n",
            "14/14 [==============================] - 0s 12ms/step - loss: 0.0337 - accuracy: 0.9835 - val_loss: 0.6246 - val_accuracy: 0.8785\n",
            "Epoch 33/35\n",
            "14/14 [==============================] - 0s 14ms/step - loss: 0.0394 - accuracy: 0.9835 - val_loss: 0.6366 - val_accuracy: 0.8879\n",
            "Epoch 34/35\n",
            "14/14 [==============================] - 0s 13ms/step - loss: 0.0375 - accuracy: 0.9882 - val_loss: 0.6441 - val_accuracy: 0.8879\n",
            "Epoch 35/35\n",
            "14/14 [==============================] - 0s 12ms/step - loss: 0.0253 - accuracy: 0.9929 - val_loss: 0.7151 - val_accuracy: 0.8879\n"
          ],
          "name": "stdout"
        }
      ]
    },
    {
      "cell_type": "code",
      "metadata": {
        "id": "xvjTeJVVslVu",
        "colab_type": "code",
        "colab": {}
      },
      "source": [
        "model.save_weights('model.h5')"
      ],
      "execution_count": 0,
      "outputs": []
    },
    {
      "cell_type": "code",
      "metadata": {
        "id": "h2d_KvAzxAg_",
        "colab_type": "code",
        "colab": {}
      },
      "source": [
        ""
      ],
      "execution_count": 0,
      "outputs": []
    }
  ]
}