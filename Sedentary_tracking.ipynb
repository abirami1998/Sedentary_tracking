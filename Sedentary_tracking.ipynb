{
  "nbformat": 4,
  "nbformat_minor": 0,
  "metadata": {
    "colab": {
      "name": "Sedentary_tracking.ipynb",
      "provenance": [],
      "collapsed_sections": [],
      "authorship_tag": "ABX9TyPw8m5CJ5BjBX8bnaVjSymG"
    },
    "kernelspec": {
      "name": "python3",
      "display_name": "Python 3"
    }
  },
  "cells": [
    {
      "cell_type": "code",
      "metadata": {
        "id": "J52dFM_Zu8Fc",
        "colab_type": "code",
        "outputId": "42caed91-f4a0-4ee4-c3eb-dab149562cfb",
        "colab": {
          "base_uri": "https://localhost:8080/",
          "height": 52
        }
      },
      "source": [
        "import tensorflow as tf\n",
        "from tensorflow.keras import Sequential\n",
        "from tensorflow.keras.layers import Flatten,Dense,Dropout,BatchNormalization\n",
        "from tensorflow.keras.layers import Conv2D,MaxPool2D\n",
        "from tensorflow.keras.optimizers import Adam\n",
        "print(tf.__version__)"
      ],
      "execution_count": 129,
      "outputs": [
        {
          "output_type": "stream",
          "text": [
            "2.2.0-rc4\n",
            "2.2.0-rc4\n"
          ],
          "name": "stdout"
        }
      ]
    },
    {
      "cell_type": "code",
      "metadata": {
        "id": "XIncA7KhwoXf",
        "colab_type": "code",
        "colab": {}
      },
      "source": [
        ""
      ],
      "execution_count": 0,
      "outputs": []
    },
    {
      "cell_type": "code",
      "metadata": {
        "id": "uXvMJ04S0hhf",
        "colab_type": "code",
        "colab": {}
      },
      "source": [
        "import pandas as pd\n",
        "import numpy as np\n",
        "import matplotlib.pyplot as plt\n",
        "from sklearn.model_selection import train_test_split\n",
        "from sklearn.preprocessing import StandardScaler,LabelEncoder"
      ],
      "execution_count": 0,
      "outputs": []
    },
    {
      "cell_type": "code",
      "metadata": {
        "id": "w1gfE6XCEoIN",
        "colab_type": "code",
        "outputId": "80b9583a-0f0a-4630-843f-bf5536c688cd",
        "colab": {
          "base_uri": "https://localhost:8080/",
          "height": 122
        }
      },
      "source": [
        "file=open('WISDM_ar_v1.1_raw.txt')\n",
        "lines=file.readlines()\n",
        "\n",
        "processedList=[]\n",
        "\n",
        "for i,line in enumerate(lines):\n",
        "  try:\n",
        "    line=line.split(',')\n",
        "    last=line[5].split(',')[0]\n",
        "    last=last.strip()\n",
        "    if last=='':\n",
        "        break;\n",
        "    temp=  [line[0],line[1],line[2],line[3],line[4],last]\n",
        "    processedList.append(temp)\n",
        "  except:\n",
        "    print('Error at',i) "
      ],
      "execution_count": 131,
      "outputs": [
        {
          "output_type": "stream",
          "text": [
            "Error at 281873\n",
            "Error at 281874\n",
            "Error at 281875\n",
            "Error at 281873\n",
            "Error at 281874\n",
            "Error at 281875\n"
          ],
          "name": "stdout"
        }
      ]
    },
    {
      "cell_type": "code",
      "metadata": {
        "id": "0kVqQ45RLIFk",
        "colab_type": "code",
        "colab": {}
      },
      "source": [
        "columns=['user','activity','time','x','y','z']\n"
      ],
      "execution_count": 0,
      "outputs": []
    },
    {
      "cell_type": "code",
      "metadata": {
        "id": "kryPu-C4Kwjy",
        "colab_type": "code",
        "outputId": "ec8832a6-8cdd-40a8-a797-e9b7905e20c9",
        "colab": {
          "base_uri": "https://localhost:8080/",
          "height": 382
        }
      },
      "source": [
        "data=pd.DataFrame(data=processedList,columns=columns)\n",
        "data.head()"
      ],
      "execution_count": 133,
      "outputs": [
        {
          "output_type": "execute_result",
          "data": {
            "text/html": [
              "<div>\n",
              "<style scoped>\n",
              "    .dataframe tbody tr th:only-of-type {\n",
              "        vertical-align: middle;\n",
              "    }\n",
              "\n",
              "    .dataframe tbody tr th {\n",
              "        vertical-align: top;\n",
              "    }\n",
              "\n",
              "    .dataframe thead th {\n",
              "        text-align: right;\n",
              "    }\n",
              "</style>\n",
              "<table border=\"1\" class=\"dataframe\">\n",
              "  <thead>\n",
              "    <tr style=\"text-align: right;\">\n",
              "      <th></th>\n",
              "      <th>user</th>\n",
              "      <th>activity</th>\n",
              "      <th>time</th>\n",
              "      <th>x</th>\n",
              "      <th>y</th>\n",
              "      <th>z</th>\n",
              "    </tr>\n",
              "  </thead>\n",
              "  <tbody>\n",
              "    <tr>\n",
              "      <th>0</th>\n",
              "      <td>33</td>\n",
              "      <td>Jogging</td>\n",
              "      <td>49105962326000</td>\n",
              "      <td>-0.6946377</td>\n",
              "      <td>12.680544</td>\n",
              "      <td>0.5039528;</td>\n",
              "    </tr>\n",
              "    <tr>\n",
              "      <th>1</th>\n",
              "      <td>33</td>\n",
              "      <td>Jogging</td>\n",
              "      <td>49106062271000</td>\n",
              "      <td>5.012288</td>\n",
              "      <td>11.264028</td>\n",
              "      <td>0.9534243;</td>\n",
              "    </tr>\n",
              "    <tr>\n",
              "      <th>2</th>\n",
              "      <td>33</td>\n",
              "      <td>Jogging</td>\n",
              "      <td>49106112167000</td>\n",
              "      <td>4.903325</td>\n",
              "      <td>10.882658</td>\n",
              "      <td>-0.0817220;</td>\n",
              "    </tr>\n",
              "    <tr>\n",
              "      <th>3</th>\n",
              "      <td>33</td>\n",
              "      <td>Jogging</td>\n",
              "      <td>49106222305000</td>\n",
              "      <td>-0.61291564</td>\n",
              "      <td>18.496431</td>\n",
              "      <td>3.0237172;</td>\n",
              "    </tr>\n",
              "    <tr>\n",
              "      <th>4</th>\n",
              "      <td>33</td>\n",
              "      <td>Jogging</td>\n",
              "      <td>49106332290000</td>\n",
              "      <td>-1.1849703</td>\n",
              "      <td>12.108489</td>\n",
              "      <td>7.205164;</td>\n",
              "    </tr>\n",
              "  </tbody>\n",
              "</table>\n",
              "</div>"
            ],
            "text/plain": [
              "  user activity            time            x          y            z\n",
              "0   33  Jogging  49105962326000   -0.6946377  12.680544   0.5039528;\n",
              "1   33  Jogging  49106062271000     5.012288  11.264028   0.9534243;\n",
              "2   33  Jogging  49106112167000     4.903325  10.882658  -0.0817220;\n",
              "3   33  Jogging  49106222305000  -0.61291564  18.496431   3.0237172;\n",
              "4   33  Jogging  49106332290000   -1.1849703  12.108489    7.205164;"
            ]
          },
          "metadata": {
            "tags": []
          },
          "execution_count": 92
        },
        {
          "output_type": "execute_result",
          "data": {
            "text/html": [
              "<div>\n",
              "<style scoped>\n",
              "    .dataframe tbody tr th:only-of-type {\n",
              "        vertical-align: middle;\n",
              "    }\n",
              "\n",
              "    .dataframe tbody tr th {\n",
              "        vertical-align: top;\n",
              "    }\n",
              "\n",
              "    .dataframe thead th {\n",
              "        text-align: right;\n",
              "    }\n",
              "</style>\n",
              "<table border=\"1\" class=\"dataframe\">\n",
              "  <thead>\n",
              "    <tr style=\"text-align: right;\">\n",
              "      <th></th>\n",
              "      <th>user</th>\n",
              "      <th>activity</th>\n",
              "      <th>time</th>\n",
              "      <th>x</th>\n",
              "      <th>y</th>\n",
              "      <th>z</th>\n",
              "    </tr>\n",
              "  </thead>\n",
              "  <tbody>\n",
              "    <tr>\n",
              "      <th>0</th>\n",
              "      <td>33</td>\n",
              "      <td>Jogging</td>\n",
              "      <td>49105962326000</td>\n",
              "      <td>-0.6946377</td>\n",
              "      <td>12.680544</td>\n",
              "      <td>0.5039528;</td>\n",
              "    </tr>\n",
              "    <tr>\n",
              "      <th>1</th>\n",
              "      <td>33</td>\n",
              "      <td>Jogging</td>\n",
              "      <td>49106062271000</td>\n",
              "      <td>5.012288</td>\n",
              "      <td>11.264028</td>\n",
              "      <td>0.9534243;</td>\n",
              "    </tr>\n",
              "    <tr>\n",
              "      <th>2</th>\n",
              "      <td>33</td>\n",
              "      <td>Jogging</td>\n",
              "      <td>49106112167000</td>\n",
              "      <td>4.903325</td>\n",
              "      <td>10.882658</td>\n",
              "      <td>-0.0817220;</td>\n",
              "    </tr>\n",
              "    <tr>\n",
              "      <th>3</th>\n",
              "      <td>33</td>\n",
              "      <td>Jogging</td>\n",
              "      <td>49106222305000</td>\n",
              "      <td>-0.61291564</td>\n",
              "      <td>18.496431</td>\n",
              "      <td>3.0237172;</td>\n",
              "    </tr>\n",
              "    <tr>\n",
              "      <th>4</th>\n",
              "      <td>33</td>\n",
              "      <td>Jogging</td>\n",
              "      <td>49106332290000</td>\n",
              "      <td>-1.1849703</td>\n",
              "      <td>12.108489</td>\n",
              "      <td>7.205164;</td>\n",
              "    </tr>\n",
              "  </tbody>\n",
              "</table>\n",
              "</div>"
            ],
            "text/plain": [
              "  user activity            time            x          y            z\n",
              "0   33  Jogging  49105962326000   -0.6946377  12.680544   0.5039528;\n",
              "1   33  Jogging  49106062271000     5.012288  11.264028   0.9534243;\n",
              "2   33  Jogging  49106112167000     4.903325  10.882658  -0.0817220;\n",
              "3   33  Jogging  49106222305000  -0.61291564  18.496431   3.0237172;\n",
              "4   33  Jogging  49106332290000   -1.1849703  12.108489    7.205164;"
            ]
          },
          "metadata": {
            "tags": []
          },
          "execution_count": 133
        }
      ]
    },
    {
      "cell_type": "code",
      "metadata": {
        "id": "6IQBBOlOLm-o",
        "colab_type": "code",
        "outputId": "a4e3ac26-5c72-4ebd-e991-5a95689391bd",
        "colab": {
          "base_uri": "https://localhost:8080/",
          "height": 34
        }
      },
      "source": [
        "data.shape\n"
      ],
      "execution_count": 134,
      "outputs": [
        {
          "output_type": "execute_result",
          "data": {
            "text/plain": [
              "(343416, 6)"
            ]
          },
          "metadata": {
            "tags": []
          },
          "execution_count": 93
        },
        {
          "output_type": "execute_result",
          "data": {
            "text/plain": [
              "(343416, 6)"
            ]
          },
          "metadata": {
            "tags": []
          },
          "execution_count": 134
        }
      ]
    },
    {
      "cell_type": "code",
      "metadata": {
        "id": "nVHLO2J5MRBK",
        "colab_type": "code",
        "outputId": "eac493ec-6607-45cd-b688-540b479c289f",
        "colab": {
          "base_uri": "https://localhost:8080/",
          "height": 474
        }
      },
      "source": [
        "data.info()"
      ],
      "execution_count": 135,
      "outputs": [
        {
          "output_type": "stream",
          "text": [
            "<class 'pandas.core.frame.DataFrame'>\n",
            "RangeIndex: 343416 entries, 0 to 343415\n",
            "Data columns (total 6 columns):\n",
            " #   Column    Non-Null Count   Dtype \n",
            "---  ------    --------------   ----- \n",
            " 0   user      343416 non-null  object\n",
            " 1   activity  343416 non-null  object\n",
            " 2   time      343416 non-null  object\n",
            " 3   x         343416 non-null  object\n",
            " 4   y         343416 non-null  object\n",
            " 5   z         343416 non-null  object\n",
            "dtypes: object(6)\n",
            "memory usage: 15.7+ MB\n",
            "<class 'pandas.core.frame.DataFrame'>\n",
            "RangeIndex: 343416 entries, 0 to 343415\n",
            "Data columns (total 6 columns):\n",
            " #   Column    Non-Null Count   Dtype \n",
            "---  ------    --------------   ----- \n",
            " 0   user      343416 non-null  object\n",
            " 1   activity  343416 non-null  object\n",
            " 2   time      343416 non-null  object\n",
            " 3   x         343416 non-null  object\n",
            " 4   y         343416 non-null  object\n",
            " 5   z         343416 non-null  object\n",
            "dtypes: object(6)\n",
            "memory usage: 15.7+ MB\n"
          ],
          "name": "stdout"
        }
      ]
    },
    {
      "cell_type": "code",
      "metadata": {
        "id": "jR6NXk_dMWKF",
        "colab_type": "code",
        "outputId": "283d517e-40c5-4c5d-bb0e-8532cd2fe668",
        "colab": {
          "base_uri": "https://localhost:8080/",
          "height": 245
        }
      },
      "source": [
        "data.isnull().sum()"
      ],
      "execution_count": 136,
      "outputs": [
        {
          "output_type": "execute_result",
          "data": {
            "text/plain": [
              "user        0\n",
              "activity    0\n",
              "time        0\n",
              "x           0\n",
              "y           0\n",
              "z           0\n",
              "dtype: int64"
            ]
          },
          "metadata": {
            "tags": []
          },
          "execution_count": 95
        },
        {
          "output_type": "execute_result",
          "data": {
            "text/plain": [
              "user        0\n",
              "activity    0\n",
              "time        0\n",
              "x           0\n",
              "y           0\n",
              "z           0\n",
              "dtype: int64"
            ]
          },
          "metadata": {
            "tags": []
          },
          "execution_count": 136
        }
      ]
    },
    {
      "cell_type": "code",
      "metadata": {
        "id": "_bQR34AfMbk_",
        "colab_type": "code",
        "outputId": "54639ebc-d20c-474e-9da5-c22bdb81b10f",
        "colab": {
          "base_uri": "https://localhost:8080/",
          "height": 245
        }
      },
      "source": [
        "data['activity'].value_counts()"
      ],
      "execution_count": 137,
      "outputs": [
        {
          "output_type": "execute_result",
          "data": {
            "text/plain": [
              "Walking       137375\n",
              "Jogging       129392\n",
              "Upstairs       35137\n",
              "Downstairs     33358\n",
              "Sitting         4599\n",
              "Standing        3555\n",
              "Name: activity, dtype: int64"
            ]
          },
          "metadata": {
            "tags": []
          },
          "execution_count": 96
        },
        {
          "output_type": "execute_result",
          "data": {
            "text/plain": [
              "Walking       137375\n",
              "Jogging       129392\n",
              "Upstairs       35137\n",
              "Downstairs     33358\n",
              "Sitting         4599\n",
              "Standing        3555\n",
              "Name: activity, dtype: int64"
            ]
          },
          "metadata": {
            "tags": []
          },
          "execution_count": 137
        }
      ]
    },
    {
      "cell_type": "code",
      "metadata": {
        "id": "12tCzLViMoGz",
        "colab_type": "code",
        "colab": {}
      },
      "source": [
        "#To avoid overfitting, balance the data"
      ],
      "execution_count": 0,
      "outputs": []
    },
    {
      "cell_type": "code",
      "metadata": {
        "id": "l0Ap5IE3My-F",
        "colab_type": "code",
        "colab": {}
      },
      "source": [
        "data['x']=data['x'].astype('float')\n",
        "data['y']=data['y'].astype('float')\n",
        "#data['z']=data['z'].astype('float')"
      ],
      "execution_count": 0,
      "outputs": []
    },
    {
      "cell_type": "code",
      "metadata": {
        "id": "L1qwvB4aNEyj",
        "colab_type": "code",
        "colab": {}
      },
      "source": [
        "Fs=20"
      ],
      "execution_count": 0,
      "outputs": []
    },
    {
      "cell_type": "code",
      "metadata": {
        "id": "cB6_ajwAPrQs",
        "colab_type": "code",
        "outputId": "ec5ea28a-0ac1-48f9-e258-5b1e36909078",
        "colab": {
          "base_uri": "https://localhost:8080/",
          "height": 382
        }
      },
      "source": [
        "df=data.drop(['user','time'],axis=1).copy()\n",
        "df.head()"
      ],
      "execution_count": 141,
      "outputs": [
        {
          "output_type": "execute_result",
          "data": {
            "text/html": [
              "<div>\n",
              "<style scoped>\n",
              "    .dataframe tbody tr th:only-of-type {\n",
              "        vertical-align: middle;\n",
              "    }\n",
              "\n",
              "    .dataframe tbody tr th {\n",
              "        vertical-align: top;\n",
              "    }\n",
              "\n",
              "    .dataframe thead th {\n",
              "        text-align: right;\n",
              "    }\n",
              "</style>\n",
              "<table border=\"1\" class=\"dataframe\">\n",
              "  <thead>\n",
              "    <tr style=\"text-align: right;\">\n",
              "      <th></th>\n",
              "      <th>activity</th>\n",
              "      <th>x</th>\n",
              "      <th>y</th>\n",
              "      <th>z</th>\n",
              "    </tr>\n",
              "  </thead>\n",
              "  <tbody>\n",
              "    <tr>\n",
              "      <th>0</th>\n",
              "      <td>Jogging</td>\n",
              "      <td>-0.694638</td>\n",
              "      <td>12.680544</td>\n",
              "      <td>0.5039528;</td>\n",
              "    </tr>\n",
              "    <tr>\n",
              "      <th>1</th>\n",
              "      <td>Jogging</td>\n",
              "      <td>5.012288</td>\n",
              "      <td>11.264028</td>\n",
              "      <td>0.9534243;</td>\n",
              "    </tr>\n",
              "    <tr>\n",
              "      <th>2</th>\n",
              "      <td>Jogging</td>\n",
              "      <td>4.903325</td>\n",
              "      <td>10.882658</td>\n",
              "      <td>-0.0817220;</td>\n",
              "    </tr>\n",
              "    <tr>\n",
              "      <th>3</th>\n",
              "      <td>Jogging</td>\n",
              "      <td>-0.612916</td>\n",
              "      <td>18.496431</td>\n",
              "      <td>3.0237172;</td>\n",
              "    </tr>\n",
              "    <tr>\n",
              "      <th>4</th>\n",
              "      <td>Jogging</td>\n",
              "      <td>-1.184970</td>\n",
              "      <td>12.108489</td>\n",
              "      <td>7.205164;</td>\n",
              "    </tr>\n",
              "  </tbody>\n",
              "</table>\n",
              "</div>"
            ],
            "text/plain": [
              "  activity         x          y            z\n",
              "0  Jogging -0.694638  12.680544   0.5039528;\n",
              "1  Jogging  5.012288  11.264028   0.9534243;\n",
              "2  Jogging  4.903325  10.882658  -0.0817220;\n",
              "3  Jogging -0.612916  18.496431   3.0237172;\n",
              "4  Jogging -1.184970  12.108489    7.205164;"
            ]
          },
          "metadata": {
            "tags": []
          },
          "execution_count": 100
        },
        {
          "output_type": "execute_result",
          "data": {
            "text/html": [
              "<div>\n",
              "<style scoped>\n",
              "    .dataframe tbody tr th:only-of-type {\n",
              "        vertical-align: middle;\n",
              "    }\n",
              "\n",
              "    .dataframe tbody tr th {\n",
              "        vertical-align: top;\n",
              "    }\n",
              "\n",
              "    .dataframe thead th {\n",
              "        text-align: right;\n",
              "    }\n",
              "</style>\n",
              "<table border=\"1\" class=\"dataframe\">\n",
              "  <thead>\n",
              "    <tr style=\"text-align: right;\">\n",
              "      <th></th>\n",
              "      <th>activity</th>\n",
              "      <th>x</th>\n",
              "      <th>y</th>\n",
              "      <th>z</th>\n",
              "    </tr>\n",
              "  </thead>\n",
              "  <tbody>\n",
              "    <tr>\n",
              "      <th>0</th>\n",
              "      <td>Jogging</td>\n",
              "      <td>-0.694638</td>\n",
              "      <td>12.680544</td>\n",
              "      <td>0.5039528;</td>\n",
              "    </tr>\n",
              "    <tr>\n",
              "      <th>1</th>\n",
              "      <td>Jogging</td>\n",
              "      <td>5.012288</td>\n",
              "      <td>11.264028</td>\n",
              "      <td>0.9534243;</td>\n",
              "    </tr>\n",
              "    <tr>\n",
              "      <th>2</th>\n",
              "      <td>Jogging</td>\n",
              "      <td>4.903325</td>\n",
              "      <td>10.882658</td>\n",
              "      <td>-0.0817220;</td>\n",
              "    </tr>\n",
              "    <tr>\n",
              "      <th>3</th>\n",
              "      <td>Jogging</td>\n",
              "      <td>-0.612916</td>\n",
              "      <td>18.496431</td>\n",
              "      <td>3.0237172;</td>\n",
              "    </tr>\n",
              "    <tr>\n",
              "      <th>4</th>\n",
              "      <td>Jogging</td>\n",
              "      <td>-1.184970</td>\n",
              "      <td>12.108489</td>\n",
              "      <td>7.205164;</td>\n",
              "    </tr>\n",
              "  </tbody>\n",
              "</table>\n",
              "</div>"
            ],
            "text/plain": [
              "  activity         x          y            z\n",
              "0  Jogging -0.694638  12.680544   0.5039528;\n",
              "1  Jogging  5.012288  11.264028   0.9534243;\n",
              "2  Jogging  4.903325  10.882658  -0.0817220;\n",
              "3  Jogging -0.612916  18.496431   3.0237172;\n",
              "4  Jogging -1.184970  12.108489    7.205164;"
            ]
          },
          "metadata": {
            "tags": []
          },
          "execution_count": 141
        }
      ]
    },
    {
      "cell_type": "code",
      "metadata": {
        "id": "zjt1YBHYQojK",
        "colab_type": "code",
        "colab": {}
      },
      "source": [
        "Walking=df[df['activity']=='Walking'].head(3555).copy()\n",
        "Jogging=df[df['activity']=='Jogging'].head(3555).copy()\n",
        "Upstairs=df[df['activity']=='Upstairs'].head(3555).copy()\n",
        "Downstairs=df[df['activity']=='Downstairs'].head(3555).copy()\n",
        "Sitting=df[df['activity']=='Sitting'].head(3555).copy()\n",
        "Standing=df[df['activity']=='Standing'].head(3555).copy()\n",
        "\n",
        "\n"
      ],
      "execution_count": 0,
      "outputs": []
    },
    {
      "cell_type": "code",
      "metadata": {
        "id": "JrBv0GvcSH5M",
        "colab_type": "code",
        "outputId": "e24b98f3-4da5-4470-c326-eb15d94dc494",
        "colab": {
          "base_uri": "https://localhost:8080/",
          "height": 34
        }
      },
      "source": [
        "balanced_data=pd.DataFrame()\n",
        "balanced_data=balanced_data.append([Walking,Jogging,Upstairs,Downstairs,Sitting,Standing])\n",
        "balanced_data.shape"
      ],
      "execution_count": 143,
      "outputs": [
        {
          "output_type": "execute_result",
          "data": {
            "text/plain": [
              "(21330, 4)"
            ]
          },
          "metadata": {
            "tags": []
          },
          "execution_count": 102
        },
        {
          "output_type": "execute_result",
          "data": {
            "text/plain": [
              "(21330, 4)"
            ]
          },
          "metadata": {
            "tags": []
          },
          "execution_count": 143
        }
      ]
    },
    {
      "cell_type": "code",
      "metadata": {
        "id": "Gmya2IeBTuio",
        "colab_type": "code",
        "outputId": "de73a521-dd56-40e6-8e9a-aba260e5ff77",
        "colab": {
          "base_uri": "https://localhost:8080/",
          "height": 382
        }
      },
      "source": [
        "balanced_data.head()"
      ],
      "execution_count": 144,
      "outputs": [
        {
          "output_type": "execute_result",
          "data": {
            "text/html": [
              "<div>\n",
              "<style scoped>\n",
              "    .dataframe tbody tr th:only-of-type {\n",
              "        vertical-align: middle;\n",
              "    }\n",
              "\n",
              "    .dataframe tbody tr th {\n",
              "        vertical-align: top;\n",
              "    }\n",
              "\n",
              "    .dataframe thead th {\n",
              "        text-align: right;\n",
              "    }\n",
              "</style>\n",
              "<table border=\"1\" class=\"dataframe\">\n",
              "  <thead>\n",
              "    <tr style=\"text-align: right;\">\n",
              "      <th></th>\n",
              "      <th>activity</th>\n",
              "      <th>x</th>\n",
              "      <th>y</th>\n",
              "      <th>z</th>\n",
              "    </tr>\n",
              "  </thead>\n",
              "  <tbody>\n",
              "    <tr>\n",
              "      <th>597</th>\n",
              "      <td>Walking</td>\n",
              "      <td>0.844462</td>\n",
              "      <td>8.008764</td>\n",
              "      <td>2.7921712;</td>\n",
              "    </tr>\n",
              "    <tr>\n",
              "      <th>598</th>\n",
              "      <td>Walking</td>\n",
              "      <td>1.116869</td>\n",
              "      <td>8.621680</td>\n",
              "      <td>3.7864566;</td>\n",
              "    </tr>\n",
              "    <tr>\n",
              "      <th>599</th>\n",
              "      <td>Walking</td>\n",
              "      <td>-0.503953</td>\n",
              "      <td>16.657684</td>\n",
              "      <td>1.3075534;</td>\n",
              "    </tr>\n",
              "    <tr>\n",
              "      <th>600</th>\n",
              "      <td>Walking</td>\n",
              "      <td>4.794363</td>\n",
              "      <td>10.760075</td>\n",
              "      <td>-1.1849703;</td>\n",
              "    </tr>\n",
              "    <tr>\n",
              "      <th>601</th>\n",
              "      <td>Walking</td>\n",
              "      <td>-0.040861</td>\n",
              "      <td>9.234595</td>\n",
              "      <td>-0.6946377;</td>\n",
              "    </tr>\n",
              "  </tbody>\n",
              "</table>\n",
              "</div>"
            ],
            "text/plain": [
              "    activity         x          y            z\n",
              "597  Walking  0.844462   8.008764   2.7921712;\n",
              "598  Walking  1.116869   8.621680   3.7864566;\n",
              "599  Walking -0.503953  16.657684   1.3075534;\n",
              "600  Walking  4.794363  10.760075  -1.1849703;\n",
              "601  Walking -0.040861   9.234595  -0.6946377;"
            ]
          },
          "metadata": {
            "tags": []
          },
          "execution_count": 103
        },
        {
          "output_type": "execute_result",
          "data": {
            "text/html": [
              "<div>\n",
              "<style scoped>\n",
              "    .dataframe tbody tr th:only-of-type {\n",
              "        vertical-align: middle;\n",
              "    }\n",
              "\n",
              "    .dataframe tbody tr th {\n",
              "        vertical-align: top;\n",
              "    }\n",
              "\n",
              "    .dataframe thead th {\n",
              "        text-align: right;\n",
              "    }\n",
              "</style>\n",
              "<table border=\"1\" class=\"dataframe\">\n",
              "  <thead>\n",
              "    <tr style=\"text-align: right;\">\n",
              "      <th></th>\n",
              "      <th>activity</th>\n",
              "      <th>x</th>\n",
              "      <th>y</th>\n",
              "      <th>z</th>\n",
              "    </tr>\n",
              "  </thead>\n",
              "  <tbody>\n",
              "    <tr>\n",
              "      <th>597</th>\n",
              "      <td>Walking</td>\n",
              "      <td>0.844462</td>\n",
              "      <td>8.008764</td>\n",
              "      <td>2.7921712;</td>\n",
              "    </tr>\n",
              "    <tr>\n",
              "      <th>598</th>\n",
              "      <td>Walking</td>\n",
              "      <td>1.116869</td>\n",
              "      <td>8.621680</td>\n",
              "      <td>3.7864566;</td>\n",
              "    </tr>\n",
              "    <tr>\n",
              "      <th>599</th>\n",
              "      <td>Walking</td>\n",
              "      <td>-0.503953</td>\n",
              "      <td>16.657684</td>\n",
              "      <td>1.3075534;</td>\n",
              "    </tr>\n",
              "    <tr>\n",
              "      <th>600</th>\n",
              "      <td>Walking</td>\n",
              "      <td>4.794363</td>\n",
              "      <td>10.760075</td>\n",
              "      <td>-1.1849703;</td>\n",
              "    </tr>\n",
              "    <tr>\n",
              "      <th>601</th>\n",
              "      <td>Walking</td>\n",
              "      <td>-0.040861</td>\n",
              "      <td>9.234595</td>\n",
              "      <td>-0.6946377;</td>\n",
              "    </tr>\n",
              "  </tbody>\n",
              "</table>\n",
              "</div>"
            ],
            "text/plain": [
              "    activity         x          y            z\n",
              "597  Walking  0.844462   8.008764   2.7921712;\n",
              "598  Walking  1.116869   8.621680   3.7864566;\n",
              "599  Walking -0.503953  16.657684   1.3075534;\n",
              "600  Walking  4.794363  10.760075  -1.1849703;\n",
              "601  Walking -0.040861   9.234595  -0.6946377;"
            ]
          },
          "metadata": {
            "tags": []
          },
          "execution_count": 144
        }
      ]
    },
    {
      "cell_type": "code",
      "metadata": {
        "id": "ZRmYrTk3B2V7",
        "colab_type": "code",
        "colab": {}
      },
      "source": [
        "balanced_data['x']=balanced_data['x'].astype('float')\n",
        "balanced_data['y']=balanced_data['y'].astype('float')\n",
        "#balanced_data['z']=balanced_data['z'].astype('float')"
      ],
      "execution_count": 0,
      "outputs": []
    },
    {
      "cell_type": "code",
      "metadata": {
        "id": "clmVdVpKU0qg",
        "colab_type": "code",
        "colab": {}
      },
      "source": [
        "from sklearn.preprocessing import LabelEncoder"
      ],
      "execution_count": 0,
      "outputs": []
    },
    {
      "cell_type": "code",
      "metadata": {
        "id": "8Tw6kUg6U7PV",
        "colab_type": "code",
        "outputId": "e242cdb7-07be-4da5-d301-3fc57c145159",
        "colab": {
          "base_uri": "https://localhost:8080/",
          "height": 382
        }
      },
      "source": [
        "label=LabelEncoder()\n",
        "balanced_data['label']=label.fit_transform(balanced_data['activity'])\n",
        "balanced_data.head()"
      ],
      "execution_count": 147,
      "outputs": [
        {
          "output_type": "execute_result",
          "data": {
            "text/html": [
              "<div>\n",
              "<style scoped>\n",
              "    .dataframe tbody tr th:only-of-type {\n",
              "        vertical-align: middle;\n",
              "    }\n",
              "\n",
              "    .dataframe tbody tr th {\n",
              "        vertical-align: top;\n",
              "    }\n",
              "\n",
              "    .dataframe thead th {\n",
              "        text-align: right;\n",
              "    }\n",
              "</style>\n",
              "<table border=\"1\" class=\"dataframe\">\n",
              "  <thead>\n",
              "    <tr style=\"text-align: right;\">\n",
              "      <th></th>\n",
              "      <th>activity</th>\n",
              "      <th>x</th>\n",
              "      <th>y</th>\n",
              "      <th>z</th>\n",
              "      <th>label</th>\n",
              "    </tr>\n",
              "  </thead>\n",
              "  <tbody>\n",
              "    <tr>\n",
              "      <th>597</th>\n",
              "      <td>Walking</td>\n",
              "      <td>0.844462</td>\n",
              "      <td>8.008764</td>\n",
              "      <td>2.7921712;</td>\n",
              "      <td>5</td>\n",
              "    </tr>\n",
              "    <tr>\n",
              "      <th>598</th>\n",
              "      <td>Walking</td>\n",
              "      <td>1.116869</td>\n",
              "      <td>8.621680</td>\n",
              "      <td>3.7864566;</td>\n",
              "      <td>5</td>\n",
              "    </tr>\n",
              "    <tr>\n",
              "      <th>599</th>\n",
              "      <td>Walking</td>\n",
              "      <td>-0.503953</td>\n",
              "      <td>16.657684</td>\n",
              "      <td>1.3075534;</td>\n",
              "      <td>5</td>\n",
              "    </tr>\n",
              "    <tr>\n",
              "      <th>600</th>\n",
              "      <td>Walking</td>\n",
              "      <td>4.794363</td>\n",
              "      <td>10.760075</td>\n",
              "      <td>-1.1849703;</td>\n",
              "      <td>5</td>\n",
              "    </tr>\n",
              "    <tr>\n",
              "      <th>601</th>\n",
              "      <td>Walking</td>\n",
              "      <td>-0.040861</td>\n",
              "      <td>9.234595</td>\n",
              "      <td>-0.6946377;</td>\n",
              "      <td>5</td>\n",
              "    </tr>\n",
              "  </tbody>\n",
              "</table>\n",
              "</div>"
            ],
            "text/plain": [
              "    activity         x          y            z  label\n",
              "597  Walking  0.844462   8.008764   2.7921712;      5\n",
              "598  Walking  1.116869   8.621680   3.7864566;      5\n",
              "599  Walking -0.503953  16.657684   1.3075534;      5\n",
              "600  Walking  4.794363  10.760075  -1.1849703;      5\n",
              "601  Walking -0.040861   9.234595  -0.6946377;      5"
            ]
          },
          "metadata": {
            "tags": []
          },
          "execution_count": 106
        },
        {
          "output_type": "execute_result",
          "data": {
            "text/html": [
              "<div>\n",
              "<style scoped>\n",
              "    .dataframe tbody tr th:only-of-type {\n",
              "        vertical-align: middle;\n",
              "    }\n",
              "\n",
              "    .dataframe tbody tr th {\n",
              "        vertical-align: top;\n",
              "    }\n",
              "\n",
              "    .dataframe thead th {\n",
              "        text-align: right;\n",
              "    }\n",
              "</style>\n",
              "<table border=\"1\" class=\"dataframe\">\n",
              "  <thead>\n",
              "    <tr style=\"text-align: right;\">\n",
              "      <th></th>\n",
              "      <th>activity</th>\n",
              "      <th>x</th>\n",
              "      <th>y</th>\n",
              "      <th>z</th>\n",
              "      <th>label</th>\n",
              "    </tr>\n",
              "  </thead>\n",
              "  <tbody>\n",
              "    <tr>\n",
              "      <th>597</th>\n",
              "      <td>Walking</td>\n",
              "      <td>0.844462</td>\n",
              "      <td>8.008764</td>\n",
              "      <td>2.7921712;</td>\n",
              "      <td>5</td>\n",
              "    </tr>\n",
              "    <tr>\n",
              "      <th>598</th>\n",
              "      <td>Walking</td>\n",
              "      <td>1.116869</td>\n",
              "      <td>8.621680</td>\n",
              "      <td>3.7864566;</td>\n",
              "      <td>5</td>\n",
              "    </tr>\n",
              "    <tr>\n",
              "      <th>599</th>\n",
              "      <td>Walking</td>\n",
              "      <td>-0.503953</td>\n",
              "      <td>16.657684</td>\n",
              "      <td>1.3075534;</td>\n",
              "      <td>5</td>\n",
              "    </tr>\n",
              "    <tr>\n",
              "      <th>600</th>\n",
              "      <td>Walking</td>\n",
              "      <td>4.794363</td>\n",
              "      <td>10.760075</td>\n",
              "      <td>-1.1849703;</td>\n",
              "      <td>5</td>\n",
              "    </tr>\n",
              "    <tr>\n",
              "      <th>601</th>\n",
              "      <td>Walking</td>\n",
              "      <td>-0.040861</td>\n",
              "      <td>9.234595</td>\n",
              "      <td>-0.6946377;</td>\n",
              "      <td>5</td>\n",
              "    </tr>\n",
              "  </tbody>\n",
              "</table>\n",
              "</div>"
            ],
            "text/plain": [
              "    activity         x          y            z  label\n",
              "597  Walking  0.844462   8.008764   2.7921712;      5\n",
              "598  Walking  1.116869   8.621680   3.7864566;      5\n",
              "599  Walking -0.503953  16.657684   1.3075534;      5\n",
              "600  Walking  4.794363  10.760075  -1.1849703;      5\n",
              "601  Walking -0.040861   9.234595  -0.6946377;      5"
            ]
          },
          "metadata": {
            "tags": []
          },
          "execution_count": 147
        }
      ]
    },
    {
      "cell_type": "code",
      "metadata": {
        "id": "XetXVpWrVMmX",
        "colab_type": "code",
        "colab": {}
      },
      "source": [
        "x=balanced_data[['x','y']]\n",
        "y=balanced_data['label']"
      ],
      "execution_count": 0,
      "outputs": []
    },
    {
      "cell_type": "code",
      "metadata": {
        "id": "JTJBhFVLWA7f",
        "colab_type": "code",
        "outputId": "3ad32839-c3d9-4b24-a076-399476a3dd42",
        "colab": {
          "base_uri": "https://localhost:8080/",
          "height": 803
        }
      },
      "source": [
        "scaler=StandardScaler()\n",
        "x=scaler.fit_transform(x)\n",
        "\n",
        "scaled_x=pd.DataFrame(data=x,columns=['x','y'])\n",
        "scaled_x['label']=y.values\n",
        "\n",
        "scaled_x"
      ],
      "execution_count": 149,
      "outputs": [
        {
          "output_type": "execute_result",
          "data": {
            "text/html": [
              "<div>\n",
              "<style scoped>\n",
              "    .dataframe tbody tr th:only-of-type {\n",
              "        vertical-align: middle;\n",
              "    }\n",
              "\n",
              "    .dataframe tbody tr th {\n",
              "        vertical-align: top;\n",
              "    }\n",
              "\n",
              "    .dataframe thead th {\n",
              "        text-align: right;\n",
              "    }\n",
              "</style>\n",
              "<table border=\"1\" class=\"dataframe\">\n",
              "  <thead>\n",
              "    <tr style=\"text-align: right;\">\n",
              "      <th></th>\n",
              "      <th>x</th>\n",
              "      <th>y</th>\n",
              "      <th>label</th>\n",
              "    </tr>\n",
              "  </thead>\n",
              "  <tbody>\n",
              "    <tr>\n",
              "      <th>0</th>\n",
              "      <td>0.000503</td>\n",
              "      <td>-0.099190</td>\n",
              "      <td>5</td>\n",
              "    </tr>\n",
              "    <tr>\n",
              "      <th>1</th>\n",
              "      <td>0.073590</td>\n",
              "      <td>0.020386</td>\n",
              "      <td>5</td>\n",
              "    </tr>\n",
              "    <tr>\n",
              "      <th>2</th>\n",
              "      <td>-0.361275</td>\n",
              "      <td>1.588160</td>\n",
              "      <td>5</td>\n",
              "    </tr>\n",
              "    <tr>\n",
              "      <th>3</th>\n",
              "      <td>1.060258</td>\n",
              "      <td>0.437573</td>\n",
              "      <td>5</td>\n",
              "    </tr>\n",
              "    <tr>\n",
              "      <th>4</th>\n",
              "      <td>-0.237028</td>\n",
              "      <td>0.139962</td>\n",
              "      <td>5</td>\n",
              "    </tr>\n",
              "    <tr>\n",
              "      <th>...</th>\n",
              "      <td>...</td>\n",
              "      <td>...</td>\n",
              "      <td>...</td>\n",
              "    </tr>\n",
              "    <tr>\n",
              "      <th>21325</th>\n",
              "      <td>-0.470217</td>\n",
              "      <td>0.178084</td>\n",
              "      <td>3</td>\n",
              "    </tr>\n",
              "    <tr>\n",
              "      <th>21326</th>\n",
              "      <td>-0.542658</td>\n",
              "      <td>0.193692</td>\n",
              "      <td>3</td>\n",
              "    </tr>\n",
              "    <tr>\n",
              "      <th>21327</th>\n",
              "      <td>-0.628514</td>\n",
              "      <td>0.197593</td>\n",
              "      <td>3</td>\n",
              "    </tr>\n",
              "    <tr>\n",
              "      <th>21328</th>\n",
              "      <td>-0.781444</td>\n",
              "      <td>0.049322</td>\n",
              "      <td>3</td>\n",
              "    </tr>\n",
              "    <tr>\n",
              "      <th>21329</th>\n",
              "      <td>-0.800225</td>\n",
              "      <td>0.267827</td>\n",
              "      <td>3</td>\n",
              "    </tr>\n",
              "  </tbody>\n",
              "</table>\n",
              "<p>21330 rows × 3 columns</p>\n",
              "</div>"
            ],
            "text/plain": [
              "              x         y  label\n",
              "0      0.000503 -0.099190      5\n",
              "1      0.073590  0.020386      5\n",
              "2     -0.361275  1.588160      5\n",
              "3      1.060258  0.437573      5\n",
              "4     -0.237028  0.139962      5\n",
              "...         ...       ...    ...\n",
              "21325 -0.470217  0.178084      3\n",
              "21326 -0.542658  0.193692      3\n",
              "21327 -0.628514  0.197593      3\n",
              "21328 -0.781444  0.049322      3\n",
              "21329 -0.800225  0.267827      3\n",
              "\n",
              "[21330 rows x 3 columns]"
            ]
          },
          "metadata": {
            "tags": []
          },
          "execution_count": 108
        },
        {
          "output_type": "execute_result",
          "data": {
            "text/html": [
              "<div>\n",
              "<style scoped>\n",
              "    .dataframe tbody tr th:only-of-type {\n",
              "        vertical-align: middle;\n",
              "    }\n",
              "\n",
              "    .dataframe tbody tr th {\n",
              "        vertical-align: top;\n",
              "    }\n",
              "\n",
              "    .dataframe thead th {\n",
              "        text-align: right;\n",
              "    }\n",
              "</style>\n",
              "<table border=\"1\" class=\"dataframe\">\n",
              "  <thead>\n",
              "    <tr style=\"text-align: right;\">\n",
              "      <th></th>\n",
              "      <th>x</th>\n",
              "      <th>y</th>\n",
              "      <th>label</th>\n",
              "    </tr>\n",
              "  </thead>\n",
              "  <tbody>\n",
              "    <tr>\n",
              "      <th>0</th>\n",
              "      <td>0.000503</td>\n",
              "      <td>-0.099190</td>\n",
              "      <td>5</td>\n",
              "    </tr>\n",
              "    <tr>\n",
              "      <th>1</th>\n",
              "      <td>0.073590</td>\n",
              "      <td>0.020386</td>\n",
              "      <td>5</td>\n",
              "    </tr>\n",
              "    <tr>\n",
              "      <th>2</th>\n",
              "      <td>-0.361275</td>\n",
              "      <td>1.588160</td>\n",
              "      <td>5</td>\n",
              "    </tr>\n",
              "    <tr>\n",
              "      <th>3</th>\n",
              "      <td>1.060258</td>\n",
              "      <td>0.437573</td>\n",
              "      <td>5</td>\n",
              "    </tr>\n",
              "    <tr>\n",
              "      <th>4</th>\n",
              "      <td>-0.237028</td>\n",
              "      <td>0.139962</td>\n",
              "      <td>5</td>\n",
              "    </tr>\n",
              "    <tr>\n",
              "      <th>...</th>\n",
              "      <td>...</td>\n",
              "      <td>...</td>\n",
              "      <td>...</td>\n",
              "    </tr>\n",
              "    <tr>\n",
              "      <th>21325</th>\n",
              "      <td>-0.470217</td>\n",
              "      <td>0.178084</td>\n",
              "      <td>3</td>\n",
              "    </tr>\n",
              "    <tr>\n",
              "      <th>21326</th>\n",
              "      <td>-0.542658</td>\n",
              "      <td>0.193692</td>\n",
              "      <td>3</td>\n",
              "    </tr>\n",
              "    <tr>\n",
              "      <th>21327</th>\n",
              "      <td>-0.628514</td>\n",
              "      <td>0.197593</td>\n",
              "      <td>3</td>\n",
              "    </tr>\n",
              "    <tr>\n",
              "      <th>21328</th>\n",
              "      <td>-0.781444</td>\n",
              "      <td>0.049322</td>\n",
              "      <td>3</td>\n",
              "    </tr>\n",
              "    <tr>\n",
              "      <th>21329</th>\n",
              "      <td>-0.800225</td>\n",
              "      <td>0.267827</td>\n",
              "      <td>3</td>\n",
              "    </tr>\n",
              "  </tbody>\n",
              "</table>\n",
              "<p>21330 rows × 3 columns</p>\n",
              "</div>"
            ],
            "text/plain": [
              "              x         y  label\n",
              "0      0.000503 -0.099190      5\n",
              "1      0.073590  0.020386      5\n",
              "2     -0.361275  1.588160      5\n",
              "3      1.060258  0.437573      5\n",
              "4     -0.237028  0.139962      5\n",
              "...         ...       ...    ...\n",
              "21325 -0.470217  0.178084      3\n",
              "21326 -0.542658  0.193692      3\n",
              "21327 -0.628514  0.197593      3\n",
              "21328 -0.781444  0.049322      3\n",
              "21329 -0.800225  0.267827      3\n",
              "\n",
              "[21330 rows x 3 columns]"
            ]
          },
          "metadata": {
            "tags": []
          },
          "execution_count": 149
        }
      ]
    },
    {
      "cell_type": "code",
      "metadata": {
        "id": "MZUGSt6HYCOq",
        "colab_type": "code",
        "colab": {}
      },
      "source": [
        "import scipy.stats as stats"
      ],
      "execution_count": 0,
      "outputs": []
    },
    {
      "cell_type": "code",
      "metadata": {
        "id": "rEtemjGfY4z_",
        "colab_type": "code",
        "colab": {}
      },
      "source": [
        "Fs=20\n",
        "frame_size=Fs*4  #80\n",
        "hop_size=Fs*2"
      ],
      "execution_count": 0,
      "outputs": []
    },
    {
      "cell_type": "code",
      "metadata": {
        "id": "O-jzLY72ZHuL",
        "colab_type": "code",
        "colab": {}
      },
      "source": [
        "def get_frame(df,frame_size,hop_size):\n",
        "  N_FEATURES=2\n",
        "\n",
        "  frames=[]\n",
        "  labels=[]\n",
        "  for i in range(0,len(df)-frame_size,hop_size):\n",
        "    x=df['x'].values[i:i+frame_size]\n",
        "    y=df['y'].values[i:i+frame_size]\n",
        "\n",
        "    label=stats.mode(df['label'][i:i+frame_size])[0][0]\n",
        "    frames.append([x,y])\n",
        "    labels.append(label)\n",
        "\n",
        "\n",
        "  frames=np.asarray(frames).reshape(-1,frame_size,N_FEATURES)\n",
        "  labels=np.asarray(labels)\n",
        "\n",
        "  return frames,labels\n",
        "\n"
      ],
      "execution_count": 0,
      "outputs": []
    },
    {
      "cell_type": "code",
      "metadata": {
        "id": "HO0BlWwxbolE",
        "colab_type": "code",
        "colab": {}
      },
      "source": [
        "x,y=get_frame(scaled_x,frame_size,hop_size)"
      ],
      "execution_count": 0,
      "outputs": []
    },
    {
      "cell_type": "code",
      "metadata": {
        "id": "gCUTGsT9b2ji",
        "colab_type": "code",
        "outputId": "ec413714-5feb-4839-9238-a64bd01ab0ed",
        "colab": {
          "base_uri": "https://localhost:8080/",
          "height": 34
        }
      },
      "source": [
        "x.shape"
      ],
      "execution_count": 154,
      "outputs": [
        {
          "output_type": "execute_result",
          "data": {
            "text/plain": [
              "(532, 80, 2)"
            ]
          },
          "metadata": {
            "tags": []
          },
          "execution_count": 113
        },
        {
          "output_type": "execute_result",
          "data": {
            "text/plain": [
              "(532, 80, 2)"
            ]
          },
          "metadata": {
            "tags": []
          },
          "execution_count": 154
        }
      ]
    },
    {
      "cell_type": "code",
      "metadata": {
        "id": "U0resXlLdlDG",
        "colab_type": "code",
        "colab": {}
      },
      "source": [
        "x_train,x_test,y_train,y_test=train_test_split(x,y,test_size=0.2,random_state=0,stratify=y)"
      ],
      "execution_count": 0,
      "outputs": []
    },
    {
      "cell_type": "code",
      "metadata": {
        "id": "oyh3euujllWP",
        "colab_type": "code",
        "outputId": "2b072dea-60b8-4c44-afe1-4e6b6b88b27d",
        "colab": {
          "base_uri": "https://localhost:8080/",
          "height": 34
        }
      },
      "source": [
        "x_test.shape"
      ],
      "execution_count": 156,
      "outputs": [
        {
          "output_type": "execute_result",
          "data": {
            "text/plain": [
              "(107, 80, 2)"
            ]
          },
          "metadata": {
            "tags": []
          },
          "execution_count": 115
        },
        {
          "output_type": "execute_result",
          "data": {
            "text/plain": [
              "(107, 80, 2)"
            ]
          },
          "metadata": {
            "tags": []
          },
          "execution_count": 156
        }
      ]
    },
    {
      "cell_type": "code",
      "metadata": {
        "id": "h9sL_MQblrt5",
        "colab_type": "code",
        "colab": {}
      },
      "source": [
        "x_train=x_train.reshape(425,80,2,1)\n",
        "x_test=x_test.reshape(107,80,2,1)"
      ],
      "execution_count": 0,
      "outputs": []
    },
    {
      "cell_type": "code",
      "metadata": {
        "id": "BegDL7H6mAOi",
        "colab_type": "code",
        "outputId": "3d58aced-b12a-44d3-a915-ad27e1a842c2",
        "colab": {
          "base_uri": "https://localhost:8080/",
          "height": 34
        }
      },
      "source": [
        "x_train[0].shape,x_test[0].shape"
      ],
      "execution_count": 158,
      "outputs": [
        {
          "output_type": "execute_result",
          "data": {
            "text/plain": [
              "((80, 2, 1), (80, 2, 1))"
            ]
          },
          "metadata": {
            "tags": []
          },
          "execution_count": 117
        },
        {
          "output_type": "execute_result",
          "data": {
            "text/plain": [
              "((80, 2, 1), (80, 2, 1))"
            ]
          },
          "metadata": {
            "tags": []
          },
          "execution_count": 158
        }
      ]
    },
    {
      "cell_type": "code",
      "metadata": {
        "id": "MWMq_HrDnLOT",
        "colab_type": "code",
        "colab": {}
      },
      "source": [
        "#MODEL BUILD"
      ],
      "execution_count": 0,
      "outputs": []
    },
    {
      "cell_type": "code",
      "metadata": {
        "id": "3ZNNslZ8nZoZ",
        "colab_type": "code",
        "colab": {}
      },
      "source": [
        "model=Sequential()\n",
        "model.add(Conv2D(16,(2,1),activation='relu',input_shape=x_train[0].shape))\n",
        "model.add(Dropout(0.1))\n",
        "\n",
        "model.add(Conv2D(32,(2,1),activation='relu'))\n",
        "model.add(Dropout(0.2))\n",
        "\n",
        "model.add(Flatten())\n",
        "model.add(Dense(64,activation='relu'))\n",
        "model.add(Dropout(0.5))\n",
        "\n",
        "model.add(Dense(6,activation='softmax'))"
      ],
      "execution_count": 0,
      "outputs": []
    },
    {
      "cell_type": "code",
      "metadata": {
        "id": "gRmMToywrsTe",
        "colab_type": "code",
        "colab": {}
      },
      "source": [
        "model.compile(optimizer=Adam(learning_rate=0.001),loss='sparse_categorical_crossentropy',metrics=['accuracy'])"
      ],
      "execution_count": 0,
      "outputs": []
    },
    {
      "cell_type": "code",
      "metadata": {
        "id": "MSZztS6VsZDT",
        "colab_type": "code",
        "outputId": "93e3a56f-8378-4b59-8e46-bdbce6f8407f",
        "colab": {
          "base_uri": "https://localhost:8080/",
          "height": 1000
        }
      },
      "source": [
        "history=model.fit(x_train,y_train,epochs=35,validation_data=(x_test,y_test),verbose=1)"
      ],
      "execution_count": 162,
      "outputs": [
        {
          "output_type": "stream",
          "text": [
            "Epoch 1/35\n",
            "14/14 [==============================] - 0s 19ms/step - loss: 1.6760 - accuracy: 0.2635 - val_loss: 1.3491 - val_accuracy: 0.5234\n",
            "Epoch 2/35\n",
            "14/14 [==============================] - 0s 13ms/step - loss: 1.3496 - accuracy: 0.4659 - val_loss: 1.0697 - val_accuracy: 0.6822\n",
            "Epoch 3/35\n",
            "14/14 [==============================] - 0s 13ms/step - loss: 1.0996 - accuracy: 0.5953 - val_loss: 0.8381 - val_accuracy: 0.7383\n",
            "Epoch 4/35\n",
            "14/14 [==============================] - 0s 16ms/step - loss: 0.9369 - accuracy: 0.6447 - val_loss: 0.7144 - val_accuracy: 0.7290\n",
            "Epoch 5/35\n",
            "14/14 [==============================] - 0s 15ms/step - loss: 0.8236 - accuracy: 0.7035 - val_loss: 0.6297 - val_accuracy: 0.8131\n",
            "Epoch 6/35\n",
            "14/14 [==============================] - 0s 17ms/step - loss: 0.6936 - accuracy: 0.7129 - val_loss: 0.5696 - val_accuracy: 0.8131\n",
            "Epoch 7/35\n",
            "14/14 [==============================] - 0s 15ms/step - loss: 0.6168 - accuracy: 0.7624 - val_loss: 0.4904 - val_accuracy: 0.8598\n",
            "Epoch 8/35\n",
            "14/14 [==============================] - 0s 14ms/step - loss: 0.5695 - accuracy: 0.7859 - val_loss: 0.5063 - val_accuracy: 0.8598\n",
            "Epoch 9/35\n",
            "14/14 [==============================] - 0s 14ms/step - loss: 0.4948 - accuracy: 0.8235 - val_loss: 0.4351 - val_accuracy: 0.8879\n",
            "Epoch 10/35\n",
            "14/14 [==============================] - 0s 14ms/step - loss: 0.4797 - accuracy: 0.8282 - val_loss: 0.4308 - val_accuracy: 0.8785\n",
            "Epoch 11/35\n",
            "14/14 [==============================] - 0s 13ms/step - loss: 0.4077 - accuracy: 0.8588 - val_loss: 0.4376 - val_accuracy: 0.8318\n",
            "Epoch 12/35\n",
            "14/14 [==============================] - 0s 13ms/step - loss: 0.3561 - accuracy: 0.8871 - val_loss: 0.4352 - val_accuracy: 0.8318\n",
            "Epoch 13/35\n",
            "14/14 [==============================] - 0s 13ms/step - loss: 0.3206 - accuracy: 0.8871 - val_loss: 0.4096 - val_accuracy: 0.8505\n",
            "Epoch 14/35\n",
            "14/14 [==============================] - 0s 13ms/step - loss: 0.3481 - accuracy: 0.8635 - val_loss: 0.4073 - val_accuracy: 0.8692\n",
            "Epoch 15/35\n",
            "14/14 [==============================] - 0s 13ms/step - loss: 0.2865 - accuracy: 0.9012 - val_loss: 0.4379 - val_accuracy: 0.8598\n",
            "Epoch 16/35\n",
            "14/14 [==============================] - 0s 12ms/step - loss: 0.2616 - accuracy: 0.9247 - val_loss: 0.4160 - val_accuracy: 0.8318\n",
            "Epoch 17/35\n",
            "14/14 [==============================] - 0s 13ms/step - loss: 0.2939 - accuracy: 0.9035 - val_loss: 0.5132 - val_accuracy: 0.8224\n",
            "Epoch 18/35\n",
            "14/14 [==============================] - 0s 13ms/step - loss: 0.3146 - accuracy: 0.8800 - val_loss: 0.4003 - val_accuracy: 0.8505\n",
            "Epoch 19/35\n",
            "14/14 [==============================] - 0s 13ms/step - loss: 0.2633 - accuracy: 0.9106 - val_loss: 0.5012 - val_accuracy: 0.8037\n",
            "Epoch 20/35\n",
            "14/14 [==============================] - 0s 14ms/step - loss: 0.2068 - accuracy: 0.9341 - val_loss: 0.4435 - val_accuracy: 0.8598\n",
            "Epoch 21/35\n",
            "14/14 [==============================] - 0s 13ms/step - loss: 0.2426 - accuracy: 0.9271 - val_loss: 0.4038 - val_accuracy: 0.8692\n",
            "Epoch 22/35\n",
            "14/14 [==============================] - 0s 13ms/step - loss: 0.1664 - accuracy: 0.9600 - val_loss: 0.4803 - val_accuracy: 0.8318\n",
            "Epoch 23/35\n",
            "14/14 [==============================] - 0s 14ms/step - loss: 0.1978 - accuracy: 0.9365 - val_loss: 0.3905 - val_accuracy: 0.8692\n",
            "Epoch 24/35\n",
            "14/14 [==============================] - 0s 13ms/step - loss: 0.1816 - accuracy: 0.9294 - val_loss: 0.4310 - val_accuracy: 0.8692\n",
            "Epoch 25/35\n",
            "14/14 [==============================] - 0s 13ms/step - loss: 0.1987 - accuracy: 0.9294 - val_loss: 0.4601 - val_accuracy: 0.8598\n",
            "Epoch 26/35\n",
            "14/14 [==============================] - 0s 13ms/step - loss: 0.1552 - accuracy: 0.9600 - val_loss: 0.4394 - val_accuracy: 0.8598\n",
            "Epoch 27/35\n",
            "14/14 [==============================] - 0s 13ms/step - loss: 0.1758 - accuracy: 0.9247 - val_loss: 0.4751 - val_accuracy: 0.8411\n",
            "Epoch 28/35\n",
            "14/14 [==============================] - 0s 14ms/step - loss: 0.1710 - accuracy: 0.9365 - val_loss: 0.5821 - val_accuracy: 0.8318\n",
            "Epoch 29/35\n",
            "14/14 [==============================] - 0s 13ms/step - loss: 0.1961 - accuracy: 0.9341 - val_loss: 0.4395 - val_accuracy: 0.8598\n",
            "Epoch 30/35\n",
            "14/14 [==============================] - 0s 13ms/step - loss: 0.1712 - accuracy: 0.9435 - val_loss: 0.6020 - val_accuracy: 0.8318\n",
            "Epoch 31/35\n",
            "14/14 [==============================] - 0s 14ms/step - loss: 0.1943 - accuracy: 0.9200 - val_loss: 0.4634 - val_accuracy: 0.8598\n",
            "Epoch 32/35\n",
            "14/14 [==============================] - 0s 14ms/step - loss: 0.1331 - accuracy: 0.9600 - val_loss: 0.5407 - val_accuracy: 0.8505\n",
            "Epoch 33/35\n",
            "14/14 [==============================] - 0s 14ms/step - loss: 0.1061 - accuracy: 0.9671 - val_loss: 0.5243 - val_accuracy: 0.8505\n",
            "Epoch 34/35\n",
            "14/14 [==============================] - 0s 13ms/step - loss: 0.1338 - accuracy: 0.9624 - val_loss: 0.5932 - val_accuracy: 0.8598\n",
            "Epoch 35/35\n",
            "14/14 [==============================] - 0s 14ms/step - loss: 0.1264 - accuracy: 0.9482 - val_loss: 0.5809 - val_accuracy: 0.8411\n",
            "Epoch 1/35\n",
            "14/14 [==============================] - 1s 51ms/step - loss: 1.6710 - accuracy: 0.2659 - val_loss: 1.3365 - val_accuracy: 0.4393\n",
            "Epoch 2/35\n",
            "14/14 [==============================] - 0s 14ms/step - loss: 1.3232 - accuracy: 0.4800 - val_loss: 1.0812 - val_accuracy: 0.6822\n",
            "Epoch 3/35\n",
            "14/14 [==============================] - 0s 15ms/step - loss: 1.0106 - accuracy: 0.6471 - val_loss: 0.7737 - val_accuracy: 0.7383\n",
            "Epoch 4/35\n",
            "14/14 [==============================] - 0s 14ms/step - loss: 0.8119 - accuracy: 0.7129 - val_loss: 0.6011 - val_accuracy: 0.8318\n",
            "Epoch 5/35\n",
            "14/14 [==============================] - 0s 15ms/step - loss: 0.6593 - accuracy: 0.7812 - val_loss: 0.5485 - val_accuracy: 0.8131\n",
            "Epoch 6/35\n",
            "14/14 [==============================] - 0s 14ms/step - loss: 0.5728 - accuracy: 0.8000 - val_loss: 0.4523 - val_accuracy: 0.8972\n",
            "Epoch 7/35\n",
            "14/14 [==============================] - 0s 13ms/step - loss: 0.4527 - accuracy: 0.8518 - val_loss: 0.4589 - val_accuracy: 0.8224\n",
            "Epoch 8/35\n",
            "14/14 [==============================] - 0s 13ms/step - loss: 0.4548 - accuracy: 0.8447 - val_loss: 0.3897 - val_accuracy: 0.8879\n",
            "Epoch 9/35\n",
            "14/14 [==============================] - 0s 13ms/step - loss: 0.3717 - accuracy: 0.8965 - val_loss: 0.3740 - val_accuracy: 0.9065\n",
            "Epoch 10/35\n",
            "14/14 [==============================] - 0s 13ms/step - loss: 0.3395 - accuracy: 0.9012 - val_loss: 0.3581 - val_accuracy: 0.8879\n",
            "Epoch 11/35\n",
            "14/14 [==============================] - 0s 12ms/step - loss: 0.3111 - accuracy: 0.9153 - val_loss: 0.3609 - val_accuracy: 0.8692\n",
            "Epoch 12/35\n",
            "14/14 [==============================] - 0s 13ms/step - loss: 0.2672 - accuracy: 0.9176 - val_loss: 0.3505 - val_accuracy: 0.8785\n",
            "Epoch 13/35\n",
            "14/14 [==============================] - 0s 13ms/step - loss: 0.2523 - accuracy: 0.9012 - val_loss: 0.3278 - val_accuracy: 0.8879\n",
            "Epoch 14/35\n",
            "14/14 [==============================] - 0s 13ms/step - loss: 0.2215 - accuracy: 0.9294 - val_loss: 0.3580 - val_accuracy: 0.8785\n",
            "Epoch 15/35\n",
            "14/14 [==============================] - 0s 13ms/step - loss: 0.2002 - accuracy: 0.9294 - val_loss: 0.3547 - val_accuracy: 0.8785\n",
            "Epoch 16/35\n",
            "14/14 [==============================] - 0s 13ms/step - loss: 0.1860 - accuracy: 0.9412 - val_loss: 0.3295 - val_accuracy: 0.8785\n",
            "Epoch 17/35\n",
            "14/14 [==============================] - 0s 12ms/step - loss: 0.1626 - accuracy: 0.9529 - val_loss: 0.3161 - val_accuracy: 0.8972\n",
            "Epoch 18/35\n",
            "14/14 [==============================] - 0s 14ms/step - loss: 0.1677 - accuracy: 0.9388 - val_loss: 0.3180 - val_accuracy: 0.8692\n",
            "Epoch 19/35\n",
            "14/14 [==============================] - 0s 12ms/step - loss: 0.1480 - accuracy: 0.9624 - val_loss: 0.3335 - val_accuracy: 0.8785\n",
            "Epoch 20/35\n",
            "14/14 [==============================] - 0s 13ms/step - loss: 0.1368 - accuracy: 0.9647 - val_loss: 0.3730 - val_accuracy: 0.8598\n",
            "Epoch 21/35\n",
            "14/14 [==============================] - 0s 13ms/step - loss: 0.1479 - accuracy: 0.9459 - val_loss: 0.3443 - val_accuracy: 0.8785\n",
            "Epoch 22/35\n",
            "14/14 [==============================] - 0s 14ms/step - loss: 0.1299 - accuracy: 0.9671 - val_loss: 0.4282 - val_accuracy: 0.8411\n",
            "Epoch 23/35\n",
            "14/14 [==============================] - 0s 17ms/step - loss: 0.1287 - accuracy: 0.9576 - val_loss: 0.3411 - val_accuracy: 0.8785\n",
            "Epoch 24/35\n",
            "14/14 [==============================] - 0s 15ms/step - loss: 0.1220 - accuracy: 0.9647 - val_loss: 0.4009 - val_accuracy: 0.8692\n",
            "Epoch 25/35\n",
            "14/14 [==============================] - 0s 14ms/step - loss: 0.1331 - accuracy: 0.9553 - val_loss: 0.3946 - val_accuracy: 0.8505\n",
            "Epoch 26/35\n",
            "14/14 [==============================] - 0s 15ms/step - loss: 0.1051 - accuracy: 0.9671 - val_loss: 0.3363 - val_accuracy: 0.8972\n",
            "Epoch 27/35\n",
            "14/14 [==============================] - 0s 15ms/step - loss: 0.0961 - accuracy: 0.9600 - val_loss: 0.3714 - val_accuracy: 0.8785\n",
            "Epoch 28/35\n",
            "14/14 [==============================] - 0s 16ms/step - loss: 0.0853 - accuracy: 0.9812 - val_loss: 0.4222 - val_accuracy: 0.8598\n",
            "Epoch 29/35\n",
            "14/14 [==============================] - 0s 14ms/step - loss: 0.0855 - accuracy: 0.9694 - val_loss: 0.3869 - val_accuracy: 0.8692\n",
            "Epoch 30/35\n",
            "14/14 [==============================] - 0s 14ms/step - loss: 0.0817 - accuracy: 0.9718 - val_loss: 0.3759 - val_accuracy: 0.8785\n",
            "Epoch 31/35\n",
            "14/14 [==============================] - 0s 13ms/step - loss: 0.0677 - accuracy: 0.9812 - val_loss: 0.4071 - val_accuracy: 0.8879\n",
            "Epoch 32/35\n",
            "14/14 [==============================] - 0s 13ms/step - loss: 0.0622 - accuracy: 0.9835 - val_loss: 0.3907 - val_accuracy: 0.8879\n",
            "Epoch 33/35\n",
            "14/14 [==============================] - 0s 13ms/step - loss: 0.0965 - accuracy: 0.9624 - val_loss: 0.3740 - val_accuracy: 0.8598\n",
            "Epoch 34/35\n",
            "14/14 [==============================] - 0s 12ms/step - loss: 0.0508 - accuracy: 0.9906 - val_loss: 0.4321 - val_accuracy: 0.8598\n",
            "Epoch 35/35\n",
            "14/14 [==============================] - 0s 12ms/step - loss: 0.0574 - accuracy: 0.9835 - val_loss: 0.4022 - val_accuracy: 0.8692\n"
          ],
          "name": "stdout"
        }
      ]
    },
    {
      "cell_type": "code",
      "metadata": {
        "id": "xvjTeJVVslVu",
        "colab_type": "code",
        "colab": {}
      },
      "source": [
        "model.save_weights('model.py')"
      ],
      "execution_count": 0,
      "outputs": []
    },
    {
      "cell_type": "code",
      "metadata": {
        "id": "L0XltVH8nVL0",
        "colab_type": "code",
        "colab": {}
      },
      "source": [
        "final=model.save('Final_model(1).h5')"
      ],
      "execution_count": 0,
      "outputs": []
    },
    {
      "cell_type": "code",
      "metadata": {
        "id": "h2d_KvAzxAg_",
        "colab_type": "code",
        "colab": {
          "base_uri": "https://localhost:8080/",
          "height": 34
        },
        "outputId": "dabfa799-f752-4702-f139-ec7dd3663380"
      },
      "source": [
        "\n",
        "model.predict_classes(x_test[:6])"
      ],
      "execution_count": 184,
      "outputs": [
        {
          "output_type": "execute_result",
          "data": {
            "text/plain": [
              "array([4, 2, 2, 1, 1, 1])"
            ]
          },
          "metadata": {
            "tags": []
          },
          "execution_count": 184
        }
      ]
    },
    {
      "cell_type": "code",
      "metadata": {
        "id": "vc1VZPPgbcqb",
        "colab_type": "code",
        "colab": {
          "base_uri": "https://localhost:8080/",
          "height": 34
        },
        "outputId": "5f0165e5-19e6-4433-8bf0-fe471178c2a6"
      },
      "source": [
        "y_test[:6]"
      ],
      "execution_count": 185,
      "outputs": [
        {
          "output_type": "execute_result",
          "data": {
            "text/plain": [
              "array([4, 2, 2, 1, 1, 1])"
            ]
          },
          "metadata": {
            "tags": []
          },
          "execution_count": 185
        }
      ]
    },
    {
      "cell_type": "code",
      "metadata": {
        "id": "BhsbELyqbLjG",
        "colab_type": "code",
        "colab": {
          "base_uri": "https://localhost:8080/",
          "height": 52
        },
        "outputId": "2eacdc31-0609-45fd-88ec-1aa2d73b67fe"
      },
      "source": [
        "score=model.evaluate(x_test,y_test)"
      ],
      "execution_count": 166,
      "outputs": [
        {
          "output_type": "stream",
          "text": [
            "4/4 [==============================] - 0s 3ms/step - loss: 0.5809 - accuracy: 0.8411\n",
            "4/4 [==============================] - 0s 3ms/step - loss: 0.4022 - accuracy: 0.8692\n"
          ],
          "name": "stdout"
        }
      ]
    },
    {
      "cell_type": "code",
      "metadata": {
        "id": "ABkb9VkTCkI7",
        "colab_type": "code",
        "colab": {}
      },
      "source": [
        "def plot_learningCurve(history,epochs):\n",
        "  epoch_range=range(1,epochs+1)\n",
        "  plt.plot(epoch_range,history.history['accuracy'])\n",
        "  plt.plot(epoch_range,history.history['val_accuracy'])\n",
        "  plt.title('Model Accuracy')\n",
        "  plt.ylabel('Accuracy')\n",
        "  plt.xlabel('Epochs')\n",
        "  plt.legend([ 'train','Val'],loc='upper left')\n",
        "  plt.show\n",
        "  \n",
        "  \n",
        "\n"
      ],
      "execution_count": 0,
      "outputs": []
    },
    {
      "cell_type": "code",
      "metadata": {
        "id": "1Jo_X9h5U4QH",
        "colab_type": "code",
        "colab": {
          "base_uri": "https://localhost:8080/",
          "height": 573
        },
        "outputId": "957e8402-f002-429c-a8f9-e37ace7c9e88"
      },
      "source": [
        "plot_learningCurve(history,35)"
      ],
      "execution_count": 168,
      "outputs": [
        {
          "output_type": "display_data",
          "data": {
            "image/png": "[encoded data removed]",
            "text/plain": [
              "<Figure size 432x288 with 1 Axes>"
            ]
          },
          "metadata": {
            "tags": [],
            "needs_background": "light"
          }
        },
        {
          "output_type": "display_data",
          "data": {
            "image/png": "[encoded data removed]",
            "text/plain": [
              "<Figure size 432x288 with 1 Axes>"
            ]
          },
          "metadata": {
            "tags": [],
            "needs_background": "light"
          }
        }
      ]
    },
    {
      "cell_type": "code",
      "metadata": {
        "id": "LKcgm-8FV97g",
        "colab_type": "code",
        "colab": {}
      },
      "source": [
        "#Confusion Matrix"
      ],
      "execution_count": 0,
      "outputs": []
    },
    {
      "cell_type": "code",
      "metadata": {
        "id": "wUTx39J-XoPI",
        "colab_type": "code",
        "colab": {}
      },
      "source": [
        "from mlxtend.plotting import plot_confusion_matrix\n",
        "from sklearn.metrics import confusion_matrix"
      ],
      "execution_count": 0,
      "outputs": []
    },
    {
      "cell_type": "code",
      "metadata": {
        "id": "NIkb1qC-X7Hx",
        "colab_type": "code",
        "colab": {}
      },
      "source": [
        "y_pred=model.predict_classes(x_test)"
      ],
      "execution_count": 0,
      "outputs": []
    },
    {
      "cell_type": "code",
      "metadata": {
        "id": "eMbxHI-XYBag",
        "colab_type": "code",
        "colab": {
          "base_uri": "https://localhost:8080/",
          "height": 477
        },
        "outputId": "5088695f-5174-4c02-80c2-5c9acff6ccdf"
      },
      "source": [
        "mat=confusion_matrix(y_test,y_pred)\n",
        "plot_confusion_matrix(conf_mat=mat,show_normed=True,figsize=(7,7))"
      ],
      "execution_count": 182,
      "outputs": [
        {
          "output_type": "execute_result",
          "data": {
            "text/plain": [
              "(<Figure size 504x504 with 1 Axes>,\n",
              " <matplotlib.axes._subplots.AxesSubplot at 0x7f2a3eab1438>)"
            ]
          },
          "metadata": {
            "tags": []
          },
          "execution_count": 182
        },
        {
          "output_type": "display_data",
          "data": {
            "image/png": "[encoded data removed]",
            "text/plain": [
              "<Figure size 504x504 with 1 Axes>"
            ]
          },
          "metadata": {
            "tags": [],
            "needs_background": "light"
          }
        }
      ]
    },
    {
      "cell_type": "code",
      "metadata": {
        "id": "b9vTMLKGYhny",
        "colab_type": "code",
        "colab": {}
      },
      "source": [
        ""
      ],
      "execution_count": 0,
      "outputs": []
    }
  ]
}